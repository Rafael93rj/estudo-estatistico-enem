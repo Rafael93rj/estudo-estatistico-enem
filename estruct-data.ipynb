{
 "cells": [
  {
   "cell_type": "markdown",
   "source": [
    "# Tratamento da base\n",
    "\n",
    "Dados: Enem SP - 2019"
   ],
   "metadata": {
    "collapsed": false
   },
   "id": "e4800f03a2dcff5"
  },
  {
   "cell_type": "markdown",
   "source": [],
   "metadata": {
    "collapsed": false
   },
   "id": "5200e3c94ec07049"
  },
  {
   "cell_type": "code",
   "outputs": [],
   "source": [
    "import pandas as pd\n",
    "import numpy as np"
   ],
   "metadata": {
    "collapsed": false,
    "ExecuteTime": {
     "end_time": "2025-02-03T10:46:27.570468900Z",
     "start_time": "2025-02-03T10:46:27.078573300Z"
    }
   },
   "id": "4e1e01687c9c4647",
   "execution_count": 3
  },
  {
   "cell_type": "code",
   "outputs": [],
   "source": [
    "#Importando a base\n",
    "base = pd.read_csv('C:/Users/rafae/OneDrive/Área de Trabalho/Projetos/project-estatisticas/microdados_enem_2019_sp.csv', sep=';', encoding='iso-8859-1')"
   ],
   "metadata": {
    "collapsed": false,
    "ExecuteTime": {
     "end_time": "2025-02-03T10:46:29.740668400Z",
     "start_time": "2025-02-03T10:46:27.556466800Z"
    }
   },
   "id": "d52081478ebaff4f",
   "execution_count": 4
  },
  {
   "cell_type": "code",
   "outputs": [
    {
     "data": {
      "text/plain": "  NU_INSCRICAO  CO_MUNICIPIO_RESIDENCIA NO_MUNICIPIO_RESIDENCIA  \\\n0     1,90E+11                  3546801            Santa Isabel   \n1     1,90E+11                  3538204             Pinhalzinho   \n2     1,90E+11                  3550308               São Paulo   \n3     1,90E+11                  3548708   São Bernardo do Campo   \n4     1,90E+11                  3549409    São Joaquim da Barra   \n\n   CO_UF_RESIDENCIA SG_UF_RESIDENCIA  NU_IDADE TP_SEXO  TP_ESTADO_CIVIL  \\\n0                35               SP        22       M                1   \n1                35               SP        19       M                1   \n2                35               SP        17       F                1   \n3                35               SP        19       M                1   \n4                35               SP        37       M                2   \n\n   TP_COR_RACA  TP_NACIONALIDADE  ...  NU_NOTA_MT TP_LINGUA  \\\n0            3                 1  ...      6002.0         0   \n1            3                 1  ...         NaN         1   \n2            3                 1  ...      7318.0         0   \n3            3                 1  ...      3932.0         1   \n4            1                 1  ...         NaN         1   \n\n   TP_STATUS_REDACAO NU_NOTA_COMP1  NU_NOTA_COMP2  NU_NOTA_COMP3  \\\n0                1.0         160.0          200.0          180.0   \n1                NaN           NaN            NaN            NaN   \n2                1.0         160.0          120.0          200.0   \n3                1.0          80.0          160.0          120.0   \n4                NaN           NaN            NaN            NaN   \n\n   NU_NOTA_COMP4  NU_NOTA_COMP5  NU_NOTA_REDACAO  Q025  \n0          200.0          200.0            940.0     B  \n1            NaN            NaN              NaN     A  \n2          200.0          200.0            880.0     A  \n3          100.0          100.0            560.0     B  \n4            NaN            NaN              NaN     B  \n\n[5 rows x 44 columns]",
      "text/html": "<div>\n<style scoped>\n    .dataframe tbody tr th:only-of-type {\n        vertical-align: middle;\n    }\n\n    .dataframe tbody tr th {\n        vertical-align: top;\n    }\n\n    .dataframe thead th {\n        text-align: right;\n    }\n</style>\n<table border=\"1\" class=\"dataframe\">\n  <thead>\n    <tr style=\"text-align: right;\">\n      <th></th>\n      <th>NU_INSCRICAO</th>\n      <th>CO_MUNICIPIO_RESIDENCIA</th>\n      <th>NO_MUNICIPIO_RESIDENCIA</th>\n      <th>CO_UF_RESIDENCIA</th>\n      <th>SG_UF_RESIDENCIA</th>\n      <th>NU_IDADE</th>\n      <th>TP_SEXO</th>\n      <th>TP_ESTADO_CIVIL</th>\n      <th>TP_COR_RACA</th>\n      <th>TP_NACIONALIDADE</th>\n      <th>...</th>\n      <th>NU_NOTA_MT</th>\n      <th>TP_LINGUA</th>\n      <th>TP_STATUS_REDACAO</th>\n      <th>NU_NOTA_COMP1</th>\n      <th>NU_NOTA_COMP2</th>\n      <th>NU_NOTA_COMP3</th>\n      <th>NU_NOTA_COMP4</th>\n      <th>NU_NOTA_COMP5</th>\n      <th>NU_NOTA_REDACAO</th>\n      <th>Q025</th>\n    </tr>\n  </thead>\n  <tbody>\n    <tr>\n      <th>0</th>\n      <td>1,90E+11</td>\n      <td>3546801</td>\n      <td>Santa Isabel</td>\n      <td>35</td>\n      <td>SP</td>\n      <td>22</td>\n      <td>M</td>\n      <td>1</td>\n      <td>3</td>\n      <td>1</td>\n      <td>...</td>\n      <td>6002.0</td>\n      <td>0</td>\n      <td>1.0</td>\n      <td>160.0</td>\n      <td>200.0</td>\n      <td>180.0</td>\n      <td>200.0</td>\n      <td>200.0</td>\n      <td>940.0</td>\n      <td>B</td>\n    </tr>\n    <tr>\n      <th>1</th>\n      <td>1,90E+11</td>\n      <td>3538204</td>\n      <td>Pinhalzinho</td>\n      <td>35</td>\n      <td>SP</td>\n      <td>19</td>\n      <td>M</td>\n      <td>1</td>\n      <td>3</td>\n      <td>1</td>\n      <td>...</td>\n      <td>NaN</td>\n      <td>1</td>\n      <td>NaN</td>\n      <td>NaN</td>\n      <td>NaN</td>\n      <td>NaN</td>\n      <td>NaN</td>\n      <td>NaN</td>\n      <td>NaN</td>\n      <td>A</td>\n    </tr>\n    <tr>\n      <th>2</th>\n      <td>1,90E+11</td>\n      <td>3550308</td>\n      <td>São Paulo</td>\n      <td>35</td>\n      <td>SP</td>\n      <td>17</td>\n      <td>F</td>\n      <td>1</td>\n      <td>3</td>\n      <td>1</td>\n      <td>...</td>\n      <td>7318.0</td>\n      <td>0</td>\n      <td>1.0</td>\n      <td>160.0</td>\n      <td>120.0</td>\n      <td>200.0</td>\n      <td>200.0</td>\n      <td>200.0</td>\n      <td>880.0</td>\n      <td>A</td>\n    </tr>\n    <tr>\n      <th>3</th>\n      <td>1,90E+11</td>\n      <td>3548708</td>\n      <td>São Bernardo do Campo</td>\n      <td>35</td>\n      <td>SP</td>\n      <td>19</td>\n      <td>M</td>\n      <td>1</td>\n      <td>3</td>\n      <td>1</td>\n      <td>...</td>\n      <td>3932.0</td>\n      <td>1</td>\n      <td>1.0</td>\n      <td>80.0</td>\n      <td>160.0</td>\n      <td>120.0</td>\n      <td>100.0</td>\n      <td>100.0</td>\n      <td>560.0</td>\n      <td>B</td>\n    </tr>\n    <tr>\n      <th>4</th>\n      <td>1,90E+11</td>\n      <td>3549409</td>\n      <td>São Joaquim da Barra</td>\n      <td>35</td>\n      <td>SP</td>\n      <td>37</td>\n      <td>M</td>\n      <td>2</td>\n      <td>1</td>\n      <td>1</td>\n      <td>...</td>\n      <td>NaN</td>\n      <td>1</td>\n      <td>NaN</td>\n      <td>NaN</td>\n      <td>NaN</td>\n      <td>NaN</td>\n      <td>NaN</td>\n      <td>NaN</td>\n      <td>NaN</td>\n      <td>B</td>\n    </tr>\n  </tbody>\n</table>\n<p>5 rows × 44 columns</p>\n</div>"
     },
     "execution_count": 5,
     "metadata": {},
     "output_type": "execute_result"
    }
   ],
   "source": [
    "#Demonstrativo do head da base\n",
    "base.head()"
   ],
   "metadata": {
    "collapsed": false,
    "ExecuteTime": {
     "end_time": "2025-02-03T10:46:29.783193800Z",
     "start_time": "2025-02-03T10:46:29.752664500Z"
    }
   },
   "id": "1c2fffa22c67cfd7",
   "execution_count": 5
  },
  {
   "cell_type": "code",
   "outputs": [
    {
     "data": {
      "text/plain": "(813772, 44)"
     },
     "execution_count": 6,
     "metadata": {},
     "output_type": "execute_result"
    }
   ],
   "source": [
    "#Contagem de linhas e colunas\n",
    "base.shape"
   ],
   "metadata": {
    "collapsed": false,
    "ExecuteTime": {
     "end_time": "2025-02-03T10:46:29.809634400Z",
     "start_time": "2025-02-03T10:46:29.777788900Z"
    }
   },
   "id": "b0704bf8f2660a5a",
   "execution_count": 6
  },
  {
   "cell_type": "code",
   "outputs": [
    {
     "data": {
      "text/plain": "NU_INSCRICAO                object\nCO_MUNICIPIO_RESIDENCIA      int64\nNO_MUNICIPIO_RESIDENCIA     object\nCO_UF_RESIDENCIA             int64\nSG_UF_RESIDENCIA            object\nNU_IDADE                     int64\nTP_SEXO                     object\nTP_ESTADO_CIVIL              int64\nTP_COR_RACA                  int64\nTP_NACIONALIDADE             int64\nCO_MUNICIPIO_NASCIMENTO    float64\nNO_MUNICIPIO_NASCIMENTO     object\nCO_UF_NASCIMENTO           float64\nSG_UF_NASCIMENTO            object\nTP_ST_CONCLUSAO              int64\nTP_ANO_CONCLUIU              int64\nTP_ESCOLA                    int64\nTP_ENSINO                  float64\nIN_TREINEIRO                 int64\nCO_ESCOLA                  float64\nCO_MUNICIPIO_ESC           float64\nNO_MUNICIPIO_ESC            object\nCO_UF_ESC                  float64\nSG_UF_ESC                   object\nTP_DEPENDENCIA_ADM_ESC     float64\nTP_LOCALIZACAO_ESC         float64\nTP_SIT_FUNC_ESC            float64\nTP_PRESENCA_CN               int64\nTP_PRESENCA_CH               int64\nTP_PRESENCA_LC               int64\nTP_PRESENCA_MT               int64\nNU_NOTA_CN                 float64\nNU_NOTA_CH                 float64\nNU_NOTA_LC                 float64\nNU_NOTA_MT                 float64\nTP_LINGUA                    int64\nTP_STATUS_REDACAO          float64\nNU_NOTA_COMP1              float64\nNU_NOTA_COMP2              float64\nNU_NOTA_COMP3              float64\nNU_NOTA_COMP4              float64\nNU_NOTA_COMP5              float64\nNU_NOTA_REDACAO            float64\nQ025                        object\ndtype: object"
     },
     "execution_count": 7,
     "metadata": {},
     "output_type": "execute_result"
    }
   ],
   "source": [
    "#Tipos de atributos\n",
    "base.dtypes"
   ],
   "metadata": {
    "collapsed": false,
    "ExecuteTime": {
     "end_time": "2025-02-03T10:46:29.810635800Z",
     "start_time": "2025-02-03T10:46:29.786186800Z"
    }
   },
   "id": "8fb82ad7a257b405",
   "execution_count": 7
  },
  {
   "cell_type": "code",
   "outputs": [],
   "source": [
    "#Criar nova variável e excluir colunas \n",
    "base_tratada = base.drop(columns=['NO_MUNICIPIO_NASCIMENTO','CO_UF_NASCIMENTO','SG_UF_NASCIMENTO','TP_ANO_CONCLUIU','TP_ENSINO','CO_MUNICIPIO_ESC','SG_UF_ESC','TP_DEPENDENCIA_ADM_ESC','TP_LOCALIZACAO_ESC','TP_SIT_FUNC_ESC','CO_UF_RESIDENCIA','SG_UF_RESIDENCIA','CO_MUNICIPIO_NASCIMENTO','CO_MUNICIPIO_NASCIMENTO',])"
   ],
   "metadata": {
    "collapsed": false,
    "ExecuteTime": {
     "end_time": "2025-02-03T10:46:29.972882700Z",
     "start_time": "2025-02-03T10:46:29.794632200Z"
    }
   },
   "id": "230050663695865e",
   "execution_count": 8
  },
  {
   "cell_type": "code",
   "outputs": [
    {
     "data": {
      "text/plain": "  NU_INSCRICAO  CO_MUNICIPIO_RESIDENCIA NO_MUNICIPIO_RESIDENCIA  NU_IDADE  \\\n0     1,90E+11                  3546801            Santa Isabel        22   \n1     1,90E+11                  3538204             Pinhalzinho        19   \n2     1,90E+11                  3550308               São Paulo        17   \n3     1,90E+11                  3548708   São Bernardo do Campo        19   \n4     1,90E+11                  3549409    São Joaquim da Barra        37   \n5     1,90E+11                  3515103              Embu-Guaçu        17   \n6     1,90E+11                  3549904     São José dos Campos        28   \n7     1,90E+11                  3549904     São José dos Campos        25   \n8     1,90E+11                  3518800               Guarulhos        23   \n9     1,90E+11                  3550308               São Paulo        19   \n\n  TP_SEXO  TP_ESTADO_CIVIL  TP_COR_RACA  TP_NACIONALIDADE  TP_ST_CONCLUSAO  \\\n0       M                1            3                 1                1   \n1       M                1            3                 1                1   \n2       F                1            3                 1                2   \n3       M                1            3                 1                2   \n4       M                2            1                 1                1   \n5       F                1            3                 1                2   \n6       F                1            1                 1                1   \n7       F                2            1                 1                1   \n8       F                1            1                 1                1   \n9       F                1            3                 1                1   \n\n   TP_ESCOLA  ...  NU_NOTA_MT  TP_LINGUA TP_STATUS_REDACAO  NU_NOTA_COMP1  \\\n0          1  ...      6002.0          0               1.0          160.0   \n1          1  ...         NaN          1               NaN            NaN   \n2          3  ...      7318.0          0               1.0          160.0   \n3          2  ...      3932.0          1               1.0           80.0   \n4          1  ...         NaN          1               NaN            NaN   \n5          2  ...      4192.0          0               1.0          120.0   \n6          1  ...         NaN          0               NaN            NaN   \n7          1  ...         NaN          1               NaN            NaN   \n8          1  ...      7961.0          0               1.0          160.0   \n9          1  ...         NaN          0               NaN            NaN   \n\n   NU_NOTA_COMP2  NU_NOTA_COMP3  NU_NOTA_COMP4  NU_NOTA_COMP5  \\\n0          200.0          180.0          200.0          200.0   \n1            NaN            NaN            NaN            NaN   \n2          120.0          200.0          200.0          200.0   \n3          160.0          120.0          100.0          100.0   \n4            NaN            NaN            NaN            NaN   \n5          120.0          120.0          120.0           80.0   \n6            NaN            NaN            NaN            NaN   \n7            NaN            NaN            NaN            NaN   \n8          200.0          180.0          180.0          160.0   \n9            NaN            NaN            NaN            NaN   \n\n   NU_NOTA_REDACAO  Q025  \n0            940.0     B  \n1              NaN     A  \n2            880.0     A  \n3            560.0     B  \n4              NaN     B  \n5            560.0     B  \n6              NaN     A  \n7              NaN     B  \n8            880.0     B  \n9              NaN     B  \n\n[10 rows x 31 columns]",
      "text/html": "<div>\n<style scoped>\n    .dataframe tbody tr th:only-of-type {\n        vertical-align: middle;\n    }\n\n    .dataframe tbody tr th {\n        vertical-align: top;\n    }\n\n    .dataframe thead th {\n        text-align: right;\n    }\n</style>\n<table border=\"1\" class=\"dataframe\">\n  <thead>\n    <tr style=\"text-align: right;\">\n      <th></th>\n      <th>NU_INSCRICAO</th>\n      <th>CO_MUNICIPIO_RESIDENCIA</th>\n      <th>NO_MUNICIPIO_RESIDENCIA</th>\n      <th>NU_IDADE</th>\n      <th>TP_SEXO</th>\n      <th>TP_ESTADO_CIVIL</th>\n      <th>TP_COR_RACA</th>\n      <th>TP_NACIONALIDADE</th>\n      <th>TP_ST_CONCLUSAO</th>\n      <th>TP_ESCOLA</th>\n      <th>...</th>\n      <th>NU_NOTA_MT</th>\n      <th>TP_LINGUA</th>\n      <th>TP_STATUS_REDACAO</th>\n      <th>NU_NOTA_COMP1</th>\n      <th>NU_NOTA_COMP2</th>\n      <th>NU_NOTA_COMP3</th>\n      <th>NU_NOTA_COMP4</th>\n      <th>NU_NOTA_COMP5</th>\n      <th>NU_NOTA_REDACAO</th>\n      <th>Q025</th>\n    </tr>\n  </thead>\n  <tbody>\n    <tr>\n      <th>0</th>\n      <td>1,90E+11</td>\n      <td>3546801</td>\n      <td>Santa Isabel</td>\n      <td>22</td>\n      <td>M</td>\n      <td>1</td>\n      <td>3</td>\n      <td>1</td>\n      <td>1</td>\n      <td>1</td>\n      <td>...</td>\n      <td>6002.0</td>\n      <td>0</td>\n      <td>1.0</td>\n      <td>160.0</td>\n      <td>200.0</td>\n      <td>180.0</td>\n      <td>200.0</td>\n      <td>200.0</td>\n      <td>940.0</td>\n      <td>B</td>\n    </tr>\n    <tr>\n      <th>1</th>\n      <td>1,90E+11</td>\n      <td>3538204</td>\n      <td>Pinhalzinho</td>\n      <td>19</td>\n      <td>M</td>\n      <td>1</td>\n      <td>3</td>\n      <td>1</td>\n      <td>1</td>\n      <td>1</td>\n      <td>...</td>\n      <td>NaN</td>\n      <td>1</td>\n      <td>NaN</td>\n      <td>NaN</td>\n      <td>NaN</td>\n      <td>NaN</td>\n      <td>NaN</td>\n      <td>NaN</td>\n      <td>NaN</td>\n      <td>A</td>\n    </tr>\n    <tr>\n      <th>2</th>\n      <td>1,90E+11</td>\n      <td>3550308</td>\n      <td>São Paulo</td>\n      <td>17</td>\n      <td>F</td>\n      <td>1</td>\n      <td>3</td>\n      <td>1</td>\n      <td>2</td>\n      <td>3</td>\n      <td>...</td>\n      <td>7318.0</td>\n      <td>0</td>\n      <td>1.0</td>\n      <td>160.0</td>\n      <td>120.0</td>\n      <td>200.0</td>\n      <td>200.0</td>\n      <td>200.0</td>\n      <td>880.0</td>\n      <td>A</td>\n    </tr>\n    <tr>\n      <th>3</th>\n      <td>1,90E+11</td>\n      <td>3548708</td>\n      <td>São Bernardo do Campo</td>\n      <td>19</td>\n      <td>M</td>\n      <td>1</td>\n      <td>3</td>\n      <td>1</td>\n      <td>2</td>\n      <td>2</td>\n      <td>...</td>\n      <td>3932.0</td>\n      <td>1</td>\n      <td>1.0</td>\n      <td>80.0</td>\n      <td>160.0</td>\n      <td>120.0</td>\n      <td>100.0</td>\n      <td>100.0</td>\n      <td>560.0</td>\n      <td>B</td>\n    </tr>\n    <tr>\n      <th>4</th>\n      <td>1,90E+11</td>\n      <td>3549409</td>\n      <td>São Joaquim da Barra</td>\n      <td>37</td>\n      <td>M</td>\n      <td>2</td>\n      <td>1</td>\n      <td>1</td>\n      <td>1</td>\n      <td>1</td>\n      <td>...</td>\n      <td>NaN</td>\n      <td>1</td>\n      <td>NaN</td>\n      <td>NaN</td>\n      <td>NaN</td>\n      <td>NaN</td>\n      <td>NaN</td>\n      <td>NaN</td>\n      <td>NaN</td>\n      <td>B</td>\n    </tr>\n    <tr>\n      <th>5</th>\n      <td>1,90E+11</td>\n      <td>3515103</td>\n      <td>Embu-Guaçu</td>\n      <td>17</td>\n      <td>F</td>\n      <td>1</td>\n      <td>3</td>\n      <td>1</td>\n      <td>2</td>\n      <td>2</td>\n      <td>...</td>\n      <td>4192.0</td>\n      <td>0</td>\n      <td>1.0</td>\n      <td>120.0</td>\n      <td>120.0</td>\n      <td>120.0</td>\n      <td>120.0</td>\n      <td>80.0</td>\n      <td>560.0</td>\n      <td>B</td>\n    </tr>\n    <tr>\n      <th>6</th>\n      <td>1,90E+11</td>\n      <td>3549904</td>\n      <td>São José dos Campos</td>\n      <td>28</td>\n      <td>F</td>\n      <td>1</td>\n      <td>1</td>\n      <td>1</td>\n      <td>1</td>\n      <td>1</td>\n      <td>...</td>\n      <td>NaN</td>\n      <td>0</td>\n      <td>NaN</td>\n      <td>NaN</td>\n      <td>NaN</td>\n      <td>NaN</td>\n      <td>NaN</td>\n      <td>NaN</td>\n      <td>NaN</td>\n      <td>A</td>\n    </tr>\n    <tr>\n      <th>7</th>\n      <td>1,90E+11</td>\n      <td>3549904</td>\n      <td>São José dos Campos</td>\n      <td>25</td>\n      <td>F</td>\n      <td>2</td>\n      <td>1</td>\n      <td>1</td>\n      <td>1</td>\n      <td>1</td>\n      <td>...</td>\n      <td>NaN</td>\n      <td>1</td>\n      <td>NaN</td>\n      <td>NaN</td>\n      <td>NaN</td>\n      <td>NaN</td>\n      <td>NaN</td>\n      <td>NaN</td>\n      <td>NaN</td>\n      <td>B</td>\n    </tr>\n    <tr>\n      <th>8</th>\n      <td>1,90E+11</td>\n      <td>3518800</td>\n      <td>Guarulhos</td>\n      <td>23</td>\n      <td>F</td>\n      <td>1</td>\n      <td>1</td>\n      <td>1</td>\n      <td>1</td>\n      <td>1</td>\n      <td>...</td>\n      <td>7961.0</td>\n      <td>0</td>\n      <td>1.0</td>\n      <td>160.0</td>\n      <td>200.0</td>\n      <td>180.0</td>\n      <td>180.0</td>\n      <td>160.0</td>\n      <td>880.0</td>\n      <td>B</td>\n    </tr>\n    <tr>\n      <th>9</th>\n      <td>1,90E+11</td>\n      <td>3550308</td>\n      <td>São Paulo</td>\n      <td>19</td>\n      <td>F</td>\n      <td>1</td>\n      <td>3</td>\n      <td>1</td>\n      <td>1</td>\n      <td>1</td>\n      <td>...</td>\n      <td>NaN</td>\n      <td>0</td>\n      <td>NaN</td>\n      <td>NaN</td>\n      <td>NaN</td>\n      <td>NaN</td>\n      <td>NaN</td>\n      <td>NaN</td>\n      <td>NaN</td>\n      <td>B</td>\n    </tr>\n  </tbody>\n</table>\n<p>10 rows × 31 columns</p>\n</div>"
     },
     "execution_count": 9,
     "metadata": {},
     "output_type": "execute_result"
    }
   ],
   "source": [
    "#Visualizar nova variável\n",
    "base_tratada.head(10)"
   ],
   "metadata": {
    "collapsed": false,
    "ExecuteTime": {
     "end_time": "2025-02-03T10:46:29.974886900Z",
     "start_time": "2025-02-03T10:46:29.894945300Z"
    }
   },
   "id": "815cf393842762c",
   "execution_count": 9
  },
  {
   "cell_type": "code",
   "outputs": [],
   "source": [
    "#Correção das notas irregulares (dividindo por 10)\n",
    "base_tratada.loc[:, ['NU_NOTA_CN','NU_NOTA_CH','NU_NOTA_LC','NU_NOTA_MT']] /= 10\n"
   ],
   "metadata": {
    "collapsed": false,
    "ExecuteTime": {
     "end_time": "2025-02-03T10:46:30.058391500Z",
     "start_time": "2025-02-03T10:46:29.901222600Z"
    }
   },
   "id": "7011da4dc440a4d5",
   "execution_count": 10
  },
  {
   "cell_type": "code",
   "outputs": [
    {
     "data": {
      "text/plain": "  NU_INSCRICAO  CO_MUNICIPIO_RESIDENCIA NO_MUNICIPIO_RESIDENCIA  NU_IDADE  \\\n0     1,90E+11                  3546801            Santa Isabel        22   \n1     1,90E+11                  3538204             Pinhalzinho        19   \n2     1,90E+11                  3550308               São Paulo        17   \n3     1,90E+11                  3548708   São Bernardo do Campo        19   \n4     1,90E+11                  3549409    São Joaquim da Barra        37   \n\n  TP_SEXO  TP_ESTADO_CIVIL  TP_COR_RACA  TP_NACIONALIDADE  TP_ST_CONCLUSAO  \\\n0       M                1            3                 1                1   \n1       M                1            3                 1                1   \n2       F                1            3                 1                2   \n3       M                1            3                 1                2   \n4       M                2            1                 1                1   \n\n   TP_ESCOLA  ...  NU_NOTA_MT  TP_LINGUA TP_STATUS_REDACAO  NU_NOTA_COMP1  \\\n0          1  ...       600.2          0               1.0          160.0   \n1          1  ...         NaN          1               NaN            NaN   \n2          3  ...       731.8          0               1.0          160.0   \n3          2  ...       393.2          1               1.0           80.0   \n4          1  ...         NaN          1               NaN            NaN   \n\n   NU_NOTA_COMP2  NU_NOTA_COMP3  NU_NOTA_COMP4  NU_NOTA_COMP5  \\\n0          200.0          180.0          200.0          200.0   \n1            NaN            NaN            NaN            NaN   \n2          120.0          200.0          200.0          200.0   \n3          160.0          120.0          100.0          100.0   \n4            NaN            NaN            NaN            NaN   \n\n   NU_NOTA_REDACAO  Q025  \n0            940.0     B  \n1              NaN     A  \n2            880.0     A  \n3            560.0     B  \n4              NaN     B  \n\n[5 rows x 31 columns]",
      "text/html": "<div>\n<style scoped>\n    .dataframe tbody tr th:only-of-type {\n        vertical-align: middle;\n    }\n\n    .dataframe tbody tr th {\n        vertical-align: top;\n    }\n\n    .dataframe thead th {\n        text-align: right;\n    }\n</style>\n<table border=\"1\" class=\"dataframe\">\n  <thead>\n    <tr style=\"text-align: right;\">\n      <th></th>\n      <th>NU_INSCRICAO</th>\n      <th>CO_MUNICIPIO_RESIDENCIA</th>\n      <th>NO_MUNICIPIO_RESIDENCIA</th>\n      <th>NU_IDADE</th>\n      <th>TP_SEXO</th>\n      <th>TP_ESTADO_CIVIL</th>\n      <th>TP_COR_RACA</th>\n      <th>TP_NACIONALIDADE</th>\n      <th>TP_ST_CONCLUSAO</th>\n      <th>TP_ESCOLA</th>\n      <th>...</th>\n      <th>NU_NOTA_MT</th>\n      <th>TP_LINGUA</th>\n      <th>TP_STATUS_REDACAO</th>\n      <th>NU_NOTA_COMP1</th>\n      <th>NU_NOTA_COMP2</th>\n      <th>NU_NOTA_COMP3</th>\n      <th>NU_NOTA_COMP4</th>\n      <th>NU_NOTA_COMP5</th>\n      <th>NU_NOTA_REDACAO</th>\n      <th>Q025</th>\n    </tr>\n  </thead>\n  <tbody>\n    <tr>\n      <th>0</th>\n      <td>1,90E+11</td>\n      <td>3546801</td>\n      <td>Santa Isabel</td>\n      <td>22</td>\n      <td>M</td>\n      <td>1</td>\n      <td>3</td>\n      <td>1</td>\n      <td>1</td>\n      <td>1</td>\n      <td>...</td>\n      <td>600.2</td>\n      <td>0</td>\n      <td>1.0</td>\n      <td>160.0</td>\n      <td>200.0</td>\n      <td>180.0</td>\n      <td>200.0</td>\n      <td>200.0</td>\n      <td>940.0</td>\n      <td>B</td>\n    </tr>\n    <tr>\n      <th>1</th>\n      <td>1,90E+11</td>\n      <td>3538204</td>\n      <td>Pinhalzinho</td>\n      <td>19</td>\n      <td>M</td>\n      <td>1</td>\n      <td>3</td>\n      <td>1</td>\n      <td>1</td>\n      <td>1</td>\n      <td>...</td>\n      <td>NaN</td>\n      <td>1</td>\n      <td>NaN</td>\n      <td>NaN</td>\n      <td>NaN</td>\n      <td>NaN</td>\n      <td>NaN</td>\n      <td>NaN</td>\n      <td>NaN</td>\n      <td>A</td>\n    </tr>\n    <tr>\n      <th>2</th>\n      <td>1,90E+11</td>\n      <td>3550308</td>\n      <td>São Paulo</td>\n      <td>17</td>\n      <td>F</td>\n      <td>1</td>\n      <td>3</td>\n      <td>1</td>\n      <td>2</td>\n      <td>3</td>\n      <td>...</td>\n      <td>731.8</td>\n      <td>0</td>\n      <td>1.0</td>\n      <td>160.0</td>\n      <td>120.0</td>\n      <td>200.0</td>\n      <td>200.0</td>\n      <td>200.0</td>\n      <td>880.0</td>\n      <td>A</td>\n    </tr>\n    <tr>\n      <th>3</th>\n      <td>1,90E+11</td>\n      <td>3548708</td>\n      <td>São Bernardo do Campo</td>\n      <td>19</td>\n      <td>M</td>\n      <td>1</td>\n      <td>3</td>\n      <td>1</td>\n      <td>2</td>\n      <td>2</td>\n      <td>...</td>\n      <td>393.2</td>\n      <td>1</td>\n      <td>1.0</td>\n      <td>80.0</td>\n      <td>160.0</td>\n      <td>120.0</td>\n      <td>100.0</td>\n      <td>100.0</td>\n      <td>560.0</td>\n      <td>B</td>\n    </tr>\n    <tr>\n      <th>4</th>\n      <td>1,90E+11</td>\n      <td>3549409</td>\n      <td>São Joaquim da Barra</td>\n      <td>37</td>\n      <td>M</td>\n      <td>2</td>\n      <td>1</td>\n      <td>1</td>\n      <td>1</td>\n      <td>1</td>\n      <td>...</td>\n      <td>NaN</td>\n      <td>1</td>\n      <td>NaN</td>\n      <td>NaN</td>\n      <td>NaN</td>\n      <td>NaN</td>\n      <td>NaN</td>\n      <td>NaN</td>\n      <td>NaN</td>\n      <td>B</td>\n    </tr>\n  </tbody>\n</table>\n<p>5 rows × 31 columns</p>\n</div>"
     },
     "execution_count": 11,
     "metadata": {},
     "output_type": "execute_result"
    }
   ],
   "source": [
    "base_tratada.head()"
   ],
   "metadata": {
    "collapsed": false,
    "ExecuteTime": {
     "end_time": "2025-02-03T10:46:30.060391300Z",
     "start_time": "2025-02-03T10:46:29.945745400Z"
    }
   },
   "id": "938879bd59011c45",
   "execution_count": 11
  },
  {
   "cell_type": "code",
   "outputs": [],
   "source": [
    "#Renomeando coluna\n",
    "base_tratada = base_tratada.rename(columns={'NU_INSCRICAO': 'INSCRICAO', 'Q025': 'INTERNET'})"
   ],
   "metadata": {
    "collapsed": false,
    "ExecuteTime": {
     "end_time": "2025-02-03T10:46:30.062390900Z",
     "start_time": "2025-02-03T10:46:29.964883Z"
    }
   },
   "id": "8f8e266a0efe238f",
   "execution_count": 12
  },
  {
   "cell_type": "code",
   "outputs": [],
   "source": [
    "#Renomeando valores\n",
    "base_tratada['TP_COR_RACA'] = base_tratada['TP_COR_RACA'].replace([0,1,2,3,4,5],['Não declarado', 'Branca','Preta','Parda','Amarela','Indígena']) \n",
    "base_tratada['TP_LINGUA'] = base_tratada['TP_LINGUA'].replace([0,1],['Inglês','Espanhol'])\n",
    "base_tratada['TP_ESCOLA'] = base_tratada['TP_ESCOLA'].replace([1,2,3,4],['Não respondeu','Pública','Privada','Exterior'])\n",
    "base_tratada['INTERNET'] = base_tratada['INTERNET'].replace(['A','B'],['Não','Sim'])"
   ],
   "metadata": {
    "collapsed": false,
    "ExecuteTime": {
     "end_time": "2025-02-03T10:46:30.361511200Z",
     "start_time": "2025-02-03T10:46:30.045394Z"
    }
   },
   "id": "cce62f408481df8e",
   "execution_count": 13
  },
  {
   "cell_type": "code",
   "outputs": [
    {
     "data": {
      "text/plain": "  INSCRICAO  CO_MUNICIPIO_RESIDENCIA NO_MUNICIPIO_RESIDENCIA  NU_IDADE  \\\n0  1,90E+11                  3546801            Santa Isabel        22   \n1  1,90E+11                  3538204             Pinhalzinho        19   \n2  1,90E+11                  3550308               São Paulo        17   \n3  1,90E+11                  3548708   São Bernardo do Campo        19   \n4  1,90E+11                  3549409    São Joaquim da Barra        37   \n\n  TP_SEXO  TP_ESTADO_CIVIL TP_COR_RACA  TP_NACIONALIDADE  TP_ST_CONCLUSAO  \\\n0       M                1       Parda                 1                1   \n1       M                1       Parda                 1                1   \n2       F                1       Parda                 1                2   \n3       M                1       Parda                 1                2   \n4       M                2      Branca                 1                1   \n\n       TP_ESCOLA  ...  NU_NOTA_MT  TP_LINGUA TP_STATUS_REDACAO  NU_NOTA_COMP1  \\\n0  Não respondeu  ...       600.2     Inglês               1.0          160.0   \n1  Não respondeu  ...         NaN   Espanhol               NaN            NaN   \n2        Privada  ...       731.8     Inglês               1.0          160.0   \n3        Pública  ...       393.2   Espanhol               1.0           80.0   \n4  Não respondeu  ...         NaN   Espanhol               NaN            NaN   \n\n   NU_NOTA_COMP2  NU_NOTA_COMP3  NU_NOTA_COMP4  NU_NOTA_COMP5  \\\n0          200.0          180.0          200.0          200.0   \n1            NaN            NaN            NaN            NaN   \n2          120.0          200.0          200.0          200.0   \n3          160.0          120.0          100.0          100.0   \n4            NaN            NaN            NaN            NaN   \n\n   NU_NOTA_REDACAO  INTERNET  \n0            940.0       Sim  \n1              NaN       Não  \n2            880.0       Não  \n3            560.0       Sim  \n4              NaN       Sim  \n\n[5 rows x 31 columns]",
      "text/html": "<div>\n<style scoped>\n    .dataframe tbody tr th:only-of-type {\n        vertical-align: middle;\n    }\n\n    .dataframe tbody tr th {\n        vertical-align: top;\n    }\n\n    .dataframe thead th {\n        text-align: right;\n    }\n</style>\n<table border=\"1\" class=\"dataframe\">\n  <thead>\n    <tr style=\"text-align: right;\">\n      <th></th>\n      <th>INSCRICAO</th>\n      <th>CO_MUNICIPIO_RESIDENCIA</th>\n      <th>NO_MUNICIPIO_RESIDENCIA</th>\n      <th>NU_IDADE</th>\n      <th>TP_SEXO</th>\n      <th>TP_ESTADO_CIVIL</th>\n      <th>TP_COR_RACA</th>\n      <th>TP_NACIONALIDADE</th>\n      <th>TP_ST_CONCLUSAO</th>\n      <th>TP_ESCOLA</th>\n      <th>...</th>\n      <th>NU_NOTA_MT</th>\n      <th>TP_LINGUA</th>\n      <th>TP_STATUS_REDACAO</th>\n      <th>NU_NOTA_COMP1</th>\n      <th>NU_NOTA_COMP2</th>\n      <th>NU_NOTA_COMP3</th>\n      <th>NU_NOTA_COMP4</th>\n      <th>NU_NOTA_COMP5</th>\n      <th>NU_NOTA_REDACAO</th>\n      <th>INTERNET</th>\n    </tr>\n  </thead>\n  <tbody>\n    <tr>\n      <th>0</th>\n      <td>1,90E+11</td>\n      <td>3546801</td>\n      <td>Santa Isabel</td>\n      <td>22</td>\n      <td>M</td>\n      <td>1</td>\n      <td>Parda</td>\n      <td>1</td>\n      <td>1</td>\n      <td>Não respondeu</td>\n      <td>...</td>\n      <td>600.2</td>\n      <td>Inglês</td>\n      <td>1.0</td>\n      <td>160.0</td>\n      <td>200.0</td>\n      <td>180.0</td>\n      <td>200.0</td>\n      <td>200.0</td>\n      <td>940.0</td>\n      <td>Sim</td>\n    </tr>\n    <tr>\n      <th>1</th>\n      <td>1,90E+11</td>\n      <td>3538204</td>\n      <td>Pinhalzinho</td>\n      <td>19</td>\n      <td>M</td>\n      <td>1</td>\n      <td>Parda</td>\n      <td>1</td>\n      <td>1</td>\n      <td>Não respondeu</td>\n      <td>...</td>\n      <td>NaN</td>\n      <td>Espanhol</td>\n      <td>NaN</td>\n      <td>NaN</td>\n      <td>NaN</td>\n      <td>NaN</td>\n      <td>NaN</td>\n      <td>NaN</td>\n      <td>NaN</td>\n      <td>Não</td>\n    </tr>\n    <tr>\n      <th>2</th>\n      <td>1,90E+11</td>\n      <td>3550308</td>\n      <td>São Paulo</td>\n      <td>17</td>\n      <td>F</td>\n      <td>1</td>\n      <td>Parda</td>\n      <td>1</td>\n      <td>2</td>\n      <td>Privada</td>\n      <td>...</td>\n      <td>731.8</td>\n      <td>Inglês</td>\n      <td>1.0</td>\n      <td>160.0</td>\n      <td>120.0</td>\n      <td>200.0</td>\n      <td>200.0</td>\n      <td>200.0</td>\n      <td>880.0</td>\n      <td>Não</td>\n    </tr>\n    <tr>\n      <th>3</th>\n      <td>1,90E+11</td>\n      <td>3548708</td>\n      <td>São Bernardo do Campo</td>\n      <td>19</td>\n      <td>M</td>\n      <td>1</td>\n      <td>Parda</td>\n      <td>1</td>\n      <td>2</td>\n      <td>Pública</td>\n      <td>...</td>\n      <td>393.2</td>\n      <td>Espanhol</td>\n      <td>1.0</td>\n      <td>80.0</td>\n      <td>160.0</td>\n      <td>120.0</td>\n      <td>100.0</td>\n      <td>100.0</td>\n      <td>560.0</td>\n      <td>Sim</td>\n    </tr>\n    <tr>\n      <th>4</th>\n      <td>1,90E+11</td>\n      <td>3549409</td>\n      <td>São Joaquim da Barra</td>\n      <td>37</td>\n      <td>M</td>\n      <td>2</td>\n      <td>Branca</td>\n      <td>1</td>\n      <td>1</td>\n      <td>Não respondeu</td>\n      <td>...</td>\n      <td>NaN</td>\n      <td>Espanhol</td>\n      <td>NaN</td>\n      <td>NaN</td>\n      <td>NaN</td>\n      <td>NaN</td>\n      <td>NaN</td>\n      <td>NaN</td>\n      <td>NaN</td>\n      <td>Sim</td>\n    </tr>\n  </tbody>\n</table>\n<p>5 rows × 31 columns</p>\n</div>"
     },
     "execution_count": 14,
     "metadata": {},
     "output_type": "execute_result"
    }
   ],
   "source": [
    "base_tratada.head()"
   ],
   "metadata": {
    "collapsed": false,
    "ExecuteTime": {
     "end_time": "2025-02-03T10:46:30.416027Z",
     "start_time": "2025-02-03T10:46:30.310973Z"
    }
   },
   "id": "d3c0deffb782f346",
   "execution_count": 14
  },
  {
   "cell_type": "code",
   "outputs": [
    {
     "data": {
      "text/plain": "NU_IDADE\n17    219313\n18    147548\n19     81236\n16     59316\n20     53009\n       ...  \n86         1\n4          1\n3          1\n91         1\n2          1\nName: count, Length: 80, dtype: int64"
     },
     "execution_count": 15,
     "metadata": {},
     "output_type": "execute_result"
    }
   ],
   "source": [
    "#Avaliando dados de idade\n",
    "base_tratada['NU_IDADE'].value_counts()"
   ],
   "metadata": {
    "collapsed": false,
    "ExecuteTime": {
     "end_time": "2025-02-03T10:46:30.470024300Z",
     "start_time": "2025-02-03T10:46:30.319494600Z"
    }
   },
   "id": "28b3cece432cd422",
   "execution_count": 15
  },
  {
   "cell_type": "code",
   "outputs": [],
   "source": [
    "#Tratando casos onde a idade for menor ou igual a 12 anos\n",
    "menores_12 = base_tratada.query('NU_IDADE < 12')['NO_MUNICIPIO_RESIDENCIA'].value_counts()"
   ],
   "metadata": {
    "collapsed": false,
    "ExecuteTime": {
     "end_time": "2025-02-03T10:46:30.543929800Z",
     "start_time": "2025-02-03T10:46:30.337631900Z"
    }
   },
   "id": "6054e8f31910f0e6",
   "execution_count": 16
  },
  {
   "cell_type": "code",
   "outputs": [
    {
     "data": {
      "text/plain": "NO_MUNICIPIO_RESIDENCIA\nSão Paulo                 5\nTambaú                    1\nRibeirão Preto            1\nBálsamo                   1\nSão Bernardo do Campo     1\nEmbu das Artes            1\nQueiroz                   1\nSantana de Parnaíba       1\nVargem Grande Paulista    1\nAuriflama                 1\nAraçatuba                 1\nCampinas                  1\nName: count, dtype: int64"
     },
     "execution_count": 17,
     "metadata": {},
     "output_type": "execute_result"
    }
   ],
   "source": [
    "#Rodando a variável\n",
    "menores_12"
   ],
   "metadata": {
    "collapsed": false,
    "ExecuteTime": {
     "end_time": "2025-02-03T10:46:30.545934800Z",
     "start_time": "2025-02-03T10:46:30.365510600Z"
    }
   },
   "id": "9ef61450e4ffd192",
   "execution_count": 17
  },
  {
   "cell_type": "code",
   "outputs": [],
   "source": [
    "#Removendo os não elegíveis\n",
    "base_tratada_2 = base_tratada.loc[base_tratada.NU_IDADE > 11]"
   ],
   "metadata": {
    "collapsed": false,
    "ExecuteTime": {
     "end_time": "2025-02-03T10:46:30.608705400Z",
     "start_time": "2025-02-03T10:46:30.380028900Z"
    }
   },
   "id": "e163003fa4d20191",
   "execution_count": 18
  },
  {
   "cell_type": "code",
   "outputs": [
    {
     "data": {
      "text/plain": "  INSCRICAO  CO_MUNICIPIO_RESIDENCIA NO_MUNICIPIO_RESIDENCIA  NU_IDADE  \\\n0  1,90E+11                  3546801            Santa Isabel        22   \n1  1,90E+11                  3538204             Pinhalzinho        19   \n2  1,90E+11                  3550308               São Paulo        17   \n3  1,90E+11                  3548708   São Bernardo do Campo        19   \n4  1,90E+11                  3549409    São Joaquim da Barra        37   \n\n  TP_SEXO  TP_ESTADO_CIVIL TP_COR_RACA  TP_NACIONALIDADE  TP_ST_CONCLUSAO  \\\n0       M                1       Parda                 1                1   \n1       M                1       Parda                 1                1   \n2       F                1       Parda                 1                2   \n3       M                1       Parda                 1                2   \n4       M                2      Branca                 1                1   \n\n       TP_ESCOLA  ...  NU_NOTA_MT  TP_LINGUA TP_STATUS_REDACAO  NU_NOTA_COMP1  \\\n0  Não respondeu  ...       600.2     Inglês               1.0          160.0   \n1  Não respondeu  ...         NaN   Espanhol               NaN            NaN   \n2        Privada  ...       731.8     Inglês               1.0          160.0   \n3        Pública  ...       393.2   Espanhol               1.0           80.0   \n4  Não respondeu  ...         NaN   Espanhol               NaN            NaN   \n\n   NU_NOTA_COMP2  NU_NOTA_COMP3  NU_NOTA_COMP4  NU_NOTA_COMP5  \\\n0          200.0          180.0          200.0          200.0   \n1            NaN            NaN            NaN            NaN   \n2          120.0          200.0          200.0          200.0   \n3          160.0          120.0          100.0          100.0   \n4            NaN            NaN            NaN            NaN   \n\n   NU_NOTA_REDACAO  INTERNET  \n0            940.0       Sim  \n1              NaN       Não  \n2            880.0       Não  \n3            560.0       Sim  \n4              NaN       Sim  \n\n[5 rows x 31 columns]",
      "text/html": "<div>\n<style scoped>\n    .dataframe tbody tr th:only-of-type {\n        vertical-align: middle;\n    }\n\n    .dataframe tbody tr th {\n        vertical-align: top;\n    }\n\n    .dataframe thead th {\n        text-align: right;\n    }\n</style>\n<table border=\"1\" class=\"dataframe\">\n  <thead>\n    <tr style=\"text-align: right;\">\n      <th></th>\n      <th>INSCRICAO</th>\n      <th>CO_MUNICIPIO_RESIDENCIA</th>\n      <th>NO_MUNICIPIO_RESIDENCIA</th>\n      <th>NU_IDADE</th>\n      <th>TP_SEXO</th>\n      <th>TP_ESTADO_CIVIL</th>\n      <th>TP_COR_RACA</th>\n      <th>TP_NACIONALIDADE</th>\n      <th>TP_ST_CONCLUSAO</th>\n      <th>TP_ESCOLA</th>\n      <th>...</th>\n      <th>NU_NOTA_MT</th>\n      <th>TP_LINGUA</th>\n      <th>TP_STATUS_REDACAO</th>\n      <th>NU_NOTA_COMP1</th>\n      <th>NU_NOTA_COMP2</th>\n      <th>NU_NOTA_COMP3</th>\n      <th>NU_NOTA_COMP4</th>\n      <th>NU_NOTA_COMP5</th>\n      <th>NU_NOTA_REDACAO</th>\n      <th>INTERNET</th>\n    </tr>\n  </thead>\n  <tbody>\n    <tr>\n      <th>0</th>\n      <td>1,90E+11</td>\n      <td>3546801</td>\n      <td>Santa Isabel</td>\n      <td>22</td>\n      <td>M</td>\n      <td>1</td>\n      <td>Parda</td>\n      <td>1</td>\n      <td>1</td>\n      <td>Não respondeu</td>\n      <td>...</td>\n      <td>600.2</td>\n      <td>Inglês</td>\n      <td>1.0</td>\n      <td>160.0</td>\n      <td>200.0</td>\n      <td>180.0</td>\n      <td>200.0</td>\n      <td>200.0</td>\n      <td>940.0</td>\n      <td>Sim</td>\n    </tr>\n    <tr>\n      <th>1</th>\n      <td>1,90E+11</td>\n      <td>3538204</td>\n      <td>Pinhalzinho</td>\n      <td>19</td>\n      <td>M</td>\n      <td>1</td>\n      <td>Parda</td>\n      <td>1</td>\n      <td>1</td>\n      <td>Não respondeu</td>\n      <td>...</td>\n      <td>NaN</td>\n      <td>Espanhol</td>\n      <td>NaN</td>\n      <td>NaN</td>\n      <td>NaN</td>\n      <td>NaN</td>\n      <td>NaN</td>\n      <td>NaN</td>\n      <td>NaN</td>\n      <td>Não</td>\n    </tr>\n    <tr>\n      <th>2</th>\n      <td>1,90E+11</td>\n      <td>3550308</td>\n      <td>São Paulo</td>\n      <td>17</td>\n      <td>F</td>\n      <td>1</td>\n      <td>Parda</td>\n      <td>1</td>\n      <td>2</td>\n      <td>Privada</td>\n      <td>...</td>\n      <td>731.8</td>\n      <td>Inglês</td>\n      <td>1.0</td>\n      <td>160.0</td>\n      <td>120.0</td>\n      <td>200.0</td>\n      <td>200.0</td>\n      <td>200.0</td>\n      <td>880.0</td>\n      <td>Não</td>\n    </tr>\n    <tr>\n      <th>3</th>\n      <td>1,90E+11</td>\n      <td>3548708</td>\n      <td>São Bernardo do Campo</td>\n      <td>19</td>\n      <td>M</td>\n      <td>1</td>\n      <td>Parda</td>\n      <td>1</td>\n      <td>2</td>\n      <td>Pública</td>\n      <td>...</td>\n      <td>393.2</td>\n      <td>Espanhol</td>\n      <td>1.0</td>\n      <td>80.0</td>\n      <td>160.0</td>\n      <td>120.0</td>\n      <td>100.0</td>\n      <td>100.0</td>\n      <td>560.0</td>\n      <td>Sim</td>\n    </tr>\n    <tr>\n      <th>4</th>\n      <td>1,90E+11</td>\n      <td>3549409</td>\n      <td>São Joaquim da Barra</td>\n      <td>37</td>\n      <td>M</td>\n      <td>2</td>\n      <td>Branca</td>\n      <td>1</td>\n      <td>1</td>\n      <td>Não respondeu</td>\n      <td>...</td>\n      <td>NaN</td>\n      <td>Espanhol</td>\n      <td>NaN</td>\n      <td>NaN</td>\n      <td>NaN</td>\n      <td>NaN</td>\n      <td>NaN</td>\n      <td>NaN</td>\n      <td>NaN</td>\n      <td>Sim</td>\n    </tr>\n  </tbody>\n</table>\n<p>5 rows × 31 columns</p>\n</div>"
     },
     "execution_count": 19,
     "metadata": {},
     "output_type": "execute_result"
    }
   ],
   "source": [
    "base_tratada_2.head()"
   ],
   "metadata": {
    "collapsed": false,
    "ExecuteTime": {
     "end_time": "2025-02-03T10:46:30.610707300Z",
     "start_time": "2025-02-03T10:46:30.526412800Z"
    }
   },
   "id": "87ccc5a4ea908a42",
   "execution_count": 19
  },
  {
   "cell_type": "code",
   "outputs": [
    {
     "data": {
      "text/plain": "IN_TREINEIRO\n1    93988\nName: count, dtype: int64"
     },
     "execution_count": 20,
     "metadata": {},
     "output_type": "execute_result"
    }
   ],
   "source": [
    "#Contagem dos alunos que fazem a prova somente para treino\n",
    "base_tratada_2.query('IN_TREINEIRO == 1')['IN_TREINEIRO'].value_counts()"
   ],
   "metadata": {
    "collapsed": false,
    "ExecuteTime": {
     "end_time": "2025-02-03T10:46:30.726932100Z",
     "start_time": "2025-02-03T10:46:30.535929Z"
    }
   },
   "id": "21099ce9b09c18bd",
   "execution_count": 20
  },
  {
   "cell_type": "code",
   "outputs": [],
   "source": [
    "#Removendo alunos \"treineiros\"\n",
    "vestibulandos = base_tratada_2.loc[base_tratada_2.IN_TREINEIRO == 0]"
   ],
   "metadata": {
    "collapsed": false,
    "ExecuteTime": {
     "end_time": "2025-02-03T10:46:30.847470300Z",
     "start_time": "2025-02-03T10:46:30.593227100Z"
    }
   },
   "id": "f78bf016c0bfd5ad",
   "execution_count": 21
  },
  {
   "cell_type": "code",
   "outputs": [
    {
     "data": {
      "text/plain": "  INSCRICAO  CO_MUNICIPIO_RESIDENCIA NO_MUNICIPIO_RESIDENCIA  NU_IDADE  \\\n0  1,90E+11                  3546801            Santa Isabel        22   \n1  1,90E+11                  3538204             Pinhalzinho        19   \n2  1,90E+11                  3550308               São Paulo        17   \n3  1,90E+11                  3548708   São Bernardo do Campo        19   \n4  1,90E+11                  3549409    São Joaquim da Barra        37   \n\n  TP_SEXO  TP_ESTADO_CIVIL TP_COR_RACA  TP_NACIONALIDADE  TP_ST_CONCLUSAO  \\\n0       M                1       Parda                 1                1   \n1       M                1       Parda                 1                1   \n2       F                1       Parda                 1                2   \n3       M                1       Parda                 1                2   \n4       M                2      Branca                 1                1   \n\n       TP_ESCOLA  ...  NU_NOTA_MT  TP_LINGUA TP_STATUS_REDACAO  NU_NOTA_COMP1  \\\n0  Não respondeu  ...       600.2     Inglês               1.0          160.0   \n1  Não respondeu  ...         NaN   Espanhol               NaN            NaN   \n2        Privada  ...       731.8     Inglês               1.0          160.0   \n3        Pública  ...       393.2   Espanhol               1.0           80.0   \n4  Não respondeu  ...         NaN   Espanhol               NaN            NaN   \n\n   NU_NOTA_COMP2  NU_NOTA_COMP3  NU_NOTA_COMP4  NU_NOTA_COMP5  \\\n0          200.0          180.0          200.0          200.0   \n1            NaN            NaN            NaN            NaN   \n2          120.0          200.0          200.0          200.0   \n3          160.0          120.0          100.0          100.0   \n4            NaN            NaN            NaN            NaN   \n\n   NU_NOTA_REDACAO  INTERNET  \n0            940.0       Sim  \n1              NaN       Não  \n2            880.0       Não  \n3            560.0       Sim  \n4              NaN       Sim  \n\n[5 rows x 31 columns]",
      "text/html": "<div>\n<style scoped>\n    .dataframe tbody tr th:only-of-type {\n        vertical-align: middle;\n    }\n\n    .dataframe tbody tr th {\n        vertical-align: top;\n    }\n\n    .dataframe thead th {\n        text-align: right;\n    }\n</style>\n<table border=\"1\" class=\"dataframe\">\n  <thead>\n    <tr style=\"text-align: right;\">\n      <th></th>\n      <th>INSCRICAO</th>\n      <th>CO_MUNICIPIO_RESIDENCIA</th>\n      <th>NO_MUNICIPIO_RESIDENCIA</th>\n      <th>NU_IDADE</th>\n      <th>TP_SEXO</th>\n      <th>TP_ESTADO_CIVIL</th>\n      <th>TP_COR_RACA</th>\n      <th>TP_NACIONALIDADE</th>\n      <th>TP_ST_CONCLUSAO</th>\n      <th>TP_ESCOLA</th>\n      <th>...</th>\n      <th>NU_NOTA_MT</th>\n      <th>TP_LINGUA</th>\n      <th>TP_STATUS_REDACAO</th>\n      <th>NU_NOTA_COMP1</th>\n      <th>NU_NOTA_COMP2</th>\n      <th>NU_NOTA_COMP3</th>\n      <th>NU_NOTA_COMP4</th>\n      <th>NU_NOTA_COMP5</th>\n      <th>NU_NOTA_REDACAO</th>\n      <th>INTERNET</th>\n    </tr>\n  </thead>\n  <tbody>\n    <tr>\n      <th>0</th>\n      <td>1,90E+11</td>\n      <td>3546801</td>\n      <td>Santa Isabel</td>\n      <td>22</td>\n      <td>M</td>\n      <td>1</td>\n      <td>Parda</td>\n      <td>1</td>\n      <td>1</td>\n      <td>Não respondeu</td>\n      <td>...</td>\n      <td>600.2</td>\n      <td>Inglês</td>\n      <td>1.0</td>\n      <td>160.0</td>\n      <td>200.0</td>\n      <td>180.0</td>\n      <td>200.0</td>\n      <td>200.0</td>\n      <td>940.0</td>\n      <td>Sim</td>\n    </tr>\n    <tr>\n      <th>1</th>\n      <td>1,90E+11</td>\n      <td>3538204</td>\n      <td>Pinhalzinho</td>\n      <td>19</td>\n      <td>M</td>\n      <td>1</td>\n      <td>Parda</td>\n      <td>1</td>\n      <td>1</td>\n      <td>Não respondeu</td>\n      <td>...</td>\n      <td>NaN</td>\n      <td>Espanhol</td>\n      <td>NaN</td>\n      <td>NaN</td>\n      <td>NaN</td>\n      <td>NaN</td>\n      <td>NaN</td>\n      <td>NaN</td>\n      <td>NaN</td>\n      <td>Não</td>\n    </tr>\n    <tr>\n      <th>2</th>\n      <td>1,90E+11</td>\n      <td>3550308</td>\n      <td>São Paulo</td>\n      <td>17</td>\n      <td>F</td>\n      <td>1</td>\n      <td>Parda</td>\n      <td>1</td>\n      <td>2</td>\n      <td>Privada</td>\n      <td>...</td>\n      <td>731.8</td>\n      <td>Inglês</td>\n      <td>1.0</td>\n      <td>160.0</td>\n      <td>120.0</td>\n      <td>200.0</td>\n      <td>200.0</td>\n      <td>200.0</td>\n      <td>880.0</td>\n      <td>Não</td>\n    </tr>\n    <tr>\n      <th>3</th>\n      <td>1,90E+11</td>\n      <td>3548708</td>\n      <td>São Bernardo do Campo</td>\n      <td>19</td>\n      <td>M</td>\n      <td>1</td>\n      <td>Parda</td>\n      <td>1</td>\n      <td>2</td>\n      <td>Pública</td>\n      <td>...</td>\n      <td>393.2</td>\n      <td>Espanhol</td>\n      <td>1.0</td>\n      <td>80.0</td>\n      <td>160.0</td>\n      <td>120.0</td>\n      <td>100.0</td>\n      <td>100.0</td>\n      <td>560.0</td>\n      <td>Sim</td>\n    </tr>\n    <tr>\n      <th>4</th>\n      <td>1,90E+11</td>\n      <td>3549409</td>\n      <td>São Joaquim da Barra</td>\n      <td>37</td>\n      <td>M</td>\n      <td>2</td>\n      <td>Branca</td>\n      <td>1</td>\n      <td>1</td>\n      <td>Não respondeu</td>\n      <td>...</td>\n      <td>NaN</td>\n      <td>Espanhol</td>\n      <td>NaN</td>\n      <td>NaN</td>\n      <td>NaN</td>\n      <td>NaN</td>\n      <td>NaN</td>\n      <td>NaN</td>\n      <td>NaN</td>\n      <td>Sim</td>\n    </tr>\n  </tbody>\n</table>\n<p>5 rows × 31 columns</p>\n</div>"
     },
     "execution_count": 22,
     "metadata": {},
     "output_type": "execute_result"
    }
   ],
   "source": [
    "base_tratada_2.head()"
   ],
   "metadata": {
    "collapsed": false,
    "ExecuteTime": {
     "end_time": "2025-02-03T10:46:30.849472700Z",
     "start_time": "2025-02-03T10:46:30.721939200Z"
    }
   },
   "id": "5d17db7e294b5215",
   "execution_count": 22
  },
  {
   "cell_type": "code",
   "outputs": [
    {
     "data": {
      "text/plain": "TP_PRESENCA_CH\n1    533142\n0    185969\n2       657\nName: count, dtype: int64"
     },
     "execution_count": 24,
     "metadata": {},
     "output_type": "execute_result"
    }
   ],
   "source": [
    "#Análise das presenças (fazendo uma contagem a partir das flags da coluna de presença)\n",
    "#1 = Presente; 0 = Falta; 2 = Eliminados.\n",
    "\n",
    "#Contagem Ciências Humanas\n",
    "vestibulandos['TP_PRESENCA_CH'].value_counts()"
   ],
   "metadata": {
    "collapsed": false,
    "ExecuteTime": {
     "end_time": "2025-02-03T10:46:39.897717200Z",
     "start_time": "2025-02-03T10:46:39.825345700Z"
    }
   },
   "id": "d89783d6cd8fde25",
   "execution_count": 24
  },
  {
   "cell_type": "code",
   "outputs": [
    {
     "data": {
      "text/plain": "TP_PRESENCA_CN\n1    500805\n0    218693\n2       270\nName: count, dtype: int64"
     },
     "execution_count": 29,
     "metadata": {},
     "output_type": "execute_result"
    }
   ],
   "source": [
    "#Contagem Ciências Naturais\n",
    "vestibulandos['TP_PRESENCA_CN'].value_counts()"
   ],
   "metadata": {
    "collapsed": false,
    "ExecuteTime": {
     "end_time": "2025-02-03T10:50:30.622378800Z",
     "start_time": "2025-02-03T10:50:30.605524Z"
    }
   },
   "id": "132040fa84142a29",
   "execution_count": 29
  },
  {
   "cell_type": "code",
   "outputs": [
    {
     "data": {
      "text/plain": "TP_PRESENCA_MT\n1    500805\n0    218693\n2       270\nName: count, dtype: int64"
     },
     "execution_count": 28,
     "metadata": {},
     "output_type": "execute_result"
    }
   ],
   "source": [
    "#Contagem Matemática\n",
    "vestibulandos['TP_PRESENCA_MT'].value_counts()"
   ],
   "metadata": {
    "collapsed": false,
    "ExecuteTime": {
     "end_time": "2025-02-03T10:50:27.350701700Z",
     "start_time": "2025-02-03T10:50:27.328479500Z"
    }
   },
   "id": "d2ded661ef477c09",
   "execution_count": 28
  },
  {
   "cell_type": "code",
   "outputs": [
    {
     "data": {
      "text/plain": "TP_PRESENCA_LC\n1    533142\n0    185969\n2       657\nName: count, dtype: int64"
     },
     "execution_count": 27,
     "metadata": {},
     "output_type": "execute_result"
    }
   ],
   "source": [
    "#Contagem Linguagens e Códigos\n",
    "vestibulandos['TP_PRESENCA_LC'].value_counts()"
   ],
   "metadata": {
    "collapsed": false,
    "ExecuteTime": {
     "end_time": "2025-02-03T10:50:24.071917600Z",
     "start_time": "2025-02-03T10:50:24.047538600Z"
    }
   },
   "id": "ad626fb80bb82572",
   "execution_count": 27
  },
  {
   "cell_type": "code",
   "outputs": [
    {
     "data": {
      "text/plain": "TP_STATUS_REDACAO\n1.0    519763\n2.0       913\n3.0      1417\n4.0      5513\n6.0      3626\n7.0       543\n8.0       828\n9.0       539\nName: count, dtype: int64"
     },
     "execution_count": 30,
     "metadata": {},
     "output_type": "execute_result"
    }
   ],
   "source": [
    "#Status da redação\n",
    "#1 = Sem problemas; do 2 em diante pode desconsiderar por não atender aos critérios.\n",
    "vestibulandos['TP_STATUS_REDACAO'].value_counts().sort_index()"
   ],
   "metadata": {
    "collapsed": false,
    "ExecuteTime": {
     "end_time": "2025-02-03T10:55:34.576147600Z",
     "start_time": "2025-02-03T10:55:34.556298400Z"
    }
   },
   "id": "3276bec4e2cb6e49",
   "execution_count": 30
  },
  {
   "cell_type": "code",
   "outputs": [
    {
     "data": {
      "text/plain": "0"
     },
     "execution_count": 31,
     "metadata": {},
     "output_type": "execute_result"
    }
   ],
   "source": [
    "#Tratando valores ausentes\n",
    "vestibulandos['NU_IDADE'].isnull().sum()"
   ],
   "metadata": {
    "collapsed": false,
    "ExecuteTime": {
     "end_time": "2025-02-03T10:57:52.050141900Z",
     "start_time": "2025-02-03T10:57:52.021493900Z"
    }
   },
   "id": "ff9aaf8c8025d826",
   "execution_count": 31
  },
  {
   "cell_type": "code",
   "outputs": [],
   "source": [
    "#Array para contar valores nulos por prova\n",
    "provas = ['NU_NOTA_REDACAO','NU_NOTA_CN','NU_NOTA_MT','NU_NOTA_LC','NU_NOTA_CH']"
   ],
   "metadata": {
    "collapsed": false,
    "ExecuteTime": {
     "end_time": "2025-02-03T11:01:32.804683300Z",
     "start_time": "2025-02-03T11:01:32.793558700Z"
    }
   },
   "id": "d1507224da35f1f",
   "execution_count": 34
  },
  {
   "cell_type": "code",
   "outputs": [
    {
     "data": {
      "text/plain": "NU_NOTA_REDACAO    186626\nNU_NOTA_CN         218963\nNU_NOTA_MT         218963\nNU_NOTA_LC         186626\nNU_NOTA_CH         186626\ndtype: int64"
     },
     "execution_count": 36,
     "metadata": {},
     "output_type": "execute_result"
    }
   ],
   "source": [
    "#Contando elementos da lista\n",
    "vestibulandos[provas].isnull().sum()"
   ],
   "metadata": {
    "collapsed": false,
    "ExecuteTime": {
     "end_time": "2025-02-03T11:02:15.457074500Z",
     "start_time": "2025-02-03T11:02:15.420389400Z"
    }
   },
   "id": "75949c9b09397837",
   "execution_count": 36
  },
  {
   "cell_type": "code",
   "outputs": [],
   "source": [
    "#Filtrando vestibulandos classificados\n",
    "vestibulandos_classificados = vestibulandos.loc[vestibulandos.TP_PRESENCA_CH == 1]\n",
    "vestibulandos_classificados = vestibulandos_classificados.loc[vestibulandos_classificados.TP_PRESENCA_MT == 1]"
   ],
   "metadata": {
    "collapsed": false,
    "ExecuteTime": {
     "end_time": "2025-02-03T11:10:54.622580800Z",
     "start_time": "2025-02-03T11:10:54.456592200Z"
    }
   },
   "id": "b1aec9469b461c3a",
   "execution_count": 41
  },
  {
   "cell_type": "code",
   "outputs": [
    {
     "data": {
      "text/plain": "TP_PRESENCA_MT\n1    499940\nName: count, dtype: int64"
     },
     "execution_count": 43,
     "metadata": {},
     "output_type": "execute_result"
    }
   ],
   "source": [
    "vestibulandos_classificados['TP_PRESENCA_MT'].value_counts()"
   ],
   "metadata": {
    "collapsed": false,
    "ExecuteTime": {
     "end_time": "2025-02-03T11:11:24.498233700Z",
     "start_time": "2025-02-03T11:11:24.474723200Z"
    }
   },
   "id": "97417c764f2ba78f",
   "execution_count": 43
  },
  {
   "cell_type": "code",
   "outputs": [
    {
     "data": {
      "text/plain": "TP_PRESENCA_CH\n1    499940\nName: count, dtype: int64"
     },
     "execution_count": 44,
     "metadata": {},
     "output_type": "execute_result"
    }
   ],
   "source": [
    "vestibulandos_classificados['TP_PRESENCA_CH'].value_counts()"
   ],
   "metadata": {
    "collapsed": false,
    "ExecuteTime": {
     "end_time": "2025-02-03T11:11:29.269423700Z",
     "start_time": "2025-02-03T11:11:29.255298100Z"
    }
   },
   "id": "74e7afea38b15eb4",
   "execution_count": 44
  },
  {
   "cell_type": "code",
   "outputs": [
    {
     "data": {
      "text/plain": "TP_PRESENCA_CN\n1    499940\nName: count, dtype: int64"
     },
     "execution_count": 45,
     "metadata": {},
     "output_type": "execute_result"
    }
   ],
   "source": [
    "vestibulandos_classificados['TP_PRESENCA_CN'].value_counts()"
   ],
   "metadata": {
    "collapsed": false,
    "ExecuteTime": {
     "end_time": "2025-02-03T11:11:32.130933700Z",
     "start_time": "2025-02-03T11:11:32.109818700Z"
    }
   },
   "id": "73024c332c59d28c",
   "execution_count": 45
  },
  {
   "cell_type": "code",
   "outputs": [
    {
     "data": {
      "text/plain": "TP_PRESENCA_LC\n1    499940\nName: count, dtype: int64"
     },
     "execution_count": 46,
     "metadata": {},
     "output_type": "execute_result"
    }
   ],
   "source": [
    "vestibulandos_classificados['TP_PRESENCA_LC'].value_counts()"
   ],
   "metadata": {
    "collapsed": false,
    "ExecuteTime": {
     "end_time": "2025-02-03T11:11:34.467453900Z",
     "start_time": "2025-02-03T11:11:34.433306Z"
    }
   },
   "id": "e6cc85d3cea34973",
   "execution_count": 46
  },
  {
   "cell_type": "code",
   "outputs": [
    {
     "data": {
      "text/plain": "NU_NOTA_REDACAO    0\nNU_NOTA_CN         0\nNU_NOTA_MT         0\nNU_NOTA_LC         0\nNU_NOTA_CH         0\ndtype: int64"
     },
     "execution_count": 48,
     "metadata": {},
     "output_type": "execute_result"
    }
   ],
   "source": [
    "#Verificando se agora temos valores ausentes\n",
    "vestibulandos_classificados[provas].isnull().sum()"
   ],
   "metadata": {
    "collapsed": false,
    "ExecuteTime": {
     "end_time": "2025-02-03T11:12:50.591206900Z",
     "start_time": "2025-02-03T11:12:50.570546700Z"
    }
   },
   "id": "bd2a02dda6ac9b67",
   "execution_count": 48
  },
  {
   "cell_type": "code",
   "outputs": [],
   "source": [],
   "metadata": {
    "collapsed": false
   },
   "id": "25e2fad79469e34f"
  }
 ],
 "metadata": {
  "kernelspec": {
   "display_name": "Python 3",
   "language": "python",
   "name": "python3"
  },
  "language_info": {
   "codemirror_mode": {
    "name": "ipython",
    "version": 2
   },
   "file_extension": ".py",
   "mimetype": "text/x-python",
   "name": "python",
   "nbconvert_exporter": "python",
   "pygments_lexer": "ipython2",
   "version": "2.7.6"
  }
 },
 "nbformat": 4,
 "nbformat_minor": 5
}
