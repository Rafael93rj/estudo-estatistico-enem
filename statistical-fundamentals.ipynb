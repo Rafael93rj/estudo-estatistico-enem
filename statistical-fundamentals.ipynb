{
 "cells": [
  {
   "cell_type": "markdown",
   "source": [
    "# Técnicas Estatísticas\n",
    "\n",
    "Dados: Enem SP - 2019"
   ],
   "metadata": {
    "collapsed": false
   },
   "id": "144edc966368e76e"
  },
  {
   "cell_type": "code",
   "outputs": [],
   "source": [
    "import pandas as pd\n",
    "import numpy as np"
   ],
   "metadata": {
    "collapsed": false,
    "ExecuteTime": {
     "end_time": "2025-02-11T11:19:29.351506600Z",
     "start_time": "2025-02-11T11:19:28.704385200Z"
    }
   },
   "id": "45ddbb9bfd0da5c5",
   "execution_count": 2
  },
  {
   "cell_type": "code",
   "outputs": [],
   "source": [
    "enem_sp = pd.read_csv('enem_base_tratada_2019_sp.csv',sep=',',encoding='iso-8859-1')"
   ],
   "metadata": {
    "collapsed": false,
    "ExecuteTime": {
     "end_time": "2025-02-11T11:19:30.761290700Z",
     "start_time": "2025-02-11T11:19:29.248743900Z"
    }
   },
   "id": "aae4c85c0f83cb58",
   "execution_count": 3
  },
  {
   "cell_type": "code",
   "outputs": [
    {
     "data": {
      "text/plain": "  INSCRICAO  CO_MUNICIPIO_RESIDENCIA NO_MUNICIPIO_RESIDENCIA  NU_IDADE  \\\n0  1,90E+11                  3546801            Santa Isabel        22   \n1  1,90E+11                  3550308               São Paulo        17   \n2  1,90E+11                  3548708   São Bernardo do Campo        19   \n3  1,90E+11                  3515103              Embu-Guaçu        17   \n4  1,90E+11                  3518800               Guarulhos        23   \n\n  TP_SEXO  TP_ESTADO_CIVIL TP_COR_RACA  TP_NACIONALIDADE  TP_ST_CONCLUSAO  \\\n0       M                1       Parda                 1                1   \n1       F                1       Parda                 1                2   \n2       M                1       Parda                 1                2   \n3       F                1       Parda                 1                2   \n4       F                1      Branca                 1                1   \n\n       TP_ESCOLA  ...  NU_NOTA_MT TP_LINGUA  TP_STATUS_REDACAO  NU_NOTA_COMP1  \\\n0  Não respondeu  ...       600.2    Inglês                1.0          160.0   \n1        Privada  ...       731.8    Inglês                1.0          160.0   \n2        Pública  ...       393.2  Espanhol                1.0           80.0   \n3        Pública  ...       419.2    Inglês                1.0          120.0   \n4  Não respondeu  ...       796.1    Inglês                1.0          160.0   \n\n   NU_NOTA_COMP2  NU_NOTA_COMP3  NU_NOTA_COMP4  NU_NOTA_COMP5  \\\n0          200.0          180.0          200.0          200.0   \n1          120.0          200.0          200.0          200.0   \n2          160.0          120.0          100.0          100.0   \n3          120.0          120.0          120.0           80.0   \n4          200.0          180.0          180.0          160.0   \n\n   NU_NOTA_REDACAO  INTERNET  \n0            940.0       Sim  \n1            880.0       Não  \n2            560.0       Sim  \n3            560.0       Sim  \n4            880.0       Sim  \n\n[5 rows x 30 columns]",
      "text/html": "<div>\n<style scoped>\n    .dataframe tbody tr th:only-of-type {\n        vertical-align: middle;\n    }\n\n    .dataframe tbody tr th {\n        vertical-align: top;\n    }\n\n    .dataframe thead th {\n        text-align: right;\n    }\n</style>\n<table border=\"1\" class=\"dataframe\">\n  <thead>\n    <tr style=\"text-align: right;\">\n      <th></th>\n      <th>INSCRICAO</th>\n      <th>CO_MUNICIPIO_RESIDENCIA</th>\n      <th>NO_MUNICIPIO_RESIDENCIA</th>\n      <th>NU_IDADE</th>\n      <th>TP_SEXO</th>\n      <th>TP_ESTADO_CIVIL</th>\n      <th>TP_COR_RACA</th>\n      <th>TP_NACIONALIDADE</th>\n      <th>TP_ST_CONCLUSAO</th>\n      <th>TP_ESCOLA</th>\n      <th>...</th>\n      <th>NU_NOTA_MT</th>\n      <th>TP_LINGUA</th>\n      <th>TP_STATUS_REDACAO</th>\n      <th>NU_NOTA_COMP1</th>\n      <th>NU_NOTA_COMP2</th>\n      <th>NU_NOTA_COMP3</th>\n      <th>NU_NOTA_COMP4</th>\n      <th>NU_NOTA_COMP5</th>\n      <th>NU_NOTA_REDACAO</th>\n      <th>INTERNET</th>\n    </tr>\n  </thead>\n  <tbody>\n    <tr>\n      <th>0</th>\n      <td>1,90E+11</td>\n      <td>3546801</td>\n      <td>Santa Isabel</td>\n      <td>22</td>\n      <td>M</td>\n      <td>1</td>\n      <td>Parda</td>\n      <td>1</td>\n      <td>1</td>\n      <td>Não respondeu</td>\n      <td>...</td>\n      <td>600.2</td>\n      <td>Inglês</td>\n      <td>1.0</td>\n      <td>160.0</td>\n      <td>200.0</td>\n      <td>180.0</td>\n      <td>200.0</td>\n      <td>200.0</td>\n      <td>940.0</td>\n      <td>Sim</td>\n    </tr>\n    <tr>\n      <th>1</th>\n      <td>1,90E+11</td>\n      <td>3550308</td>\n      <td>São Paulo</td>\n      <td>17</td>\n      <td>F</td>\n      <td>1</td>\n      <td>Parda</td>\n      <td>1</td>\n      <td>2</td>\n      <td>Privada</td>\n      <td>...</td>\n      <td>731.8</td>\n      <td>Inglês</td>\n      <td>1.0</td>\n      <td>160.0</td>\n      <td>120.0</td>\n      <td>200.0</td>\n      <td>200.0</td>\n      <td>200.0</td>\n      <td>880.0</td>\n      <td>Não</td>\n    </tr>\n    <tr>\n      <th>2</th>\n      <td>1,90E+11</td>\n      <td>3548708</td>\n      <td>São Bernardo do Campo</td>\n      <td>19</td>\n      <td>M</td>\n      <td>1</td>\n      <td>Parda</td>\n      <td>1</td>\n      <td>2</td>\n      <td>Pública</td>\n      <td>...</td>\n      <td>393.2</td>\n      <td>Espanhol</td>\n      <td>1.0</td>\n      <td>80.0</td>\n      <td>160.0</td>\n      <td>120.0</td>\n      <td>100.0</td>\n      <td>100.0</td>\n      <td>560.0</td>\n      <td>Sim</td>\n    </tr>\n    <tr>\n      <th>3</th>\n      <td>1,90E+11</td>\n      <td>3515103</td>\n      <td>Embu-Guaçu</td>\n      <td>17</td>\n      <td>F</td>\n      <td>1</td>\n      <td>Parda</td>\n      <td>1</td>\n      <td>2</td>\n      <td>Pública</td>\n      <td>...</td>\n      <td>419.2</td>\n      <td>Inglês</td>\n      <td>1.0</td>\n      <td>120.0</td>\n      <td>120.0</td>\n      <td>120.0</td>\n      <td>120.0</td>\n      <td>80.0</td>\n      <td>560.0</td>\n      <td>Sim</td>\n    </tr>\n    <tr>\n      <th>4</th>\n      <td>1,90E+11</td>\n      <td>3518800</td>\n      <td>Guarulhos</td>\n      <td>23</td>\n      <td>F</td>\n      <td>1</td>\n      <td>Branca</td>\n      <td>1</td>\n      <td>1</td>\n      <td>Não respondeu</td>\n      <td>...</td>\n      <td>796.1</td>\n      <td>Inglês</td>\n      <td>1.0</td>\n      <td>160.0</td>\n      <td>200.0</td>\n      <td>180.0</td>\n      <td>180.0</td>\n      <td>160.0</td>\n      <td>880.0</td>\n      <td>Sim</td>\n    </tr>\n  </tbody>\n</table>\n<p>5 rows × 30 columns</p>\n</div>"
     },
     "execution_count": 4,
     "metadata": {},
     "output_type": "execute_result"
    }
   ],
   "source": [
    "enem_sp.head()"
   ],
   "metadata": {
    "collapsed": false,
    "ExecuteTime": {
     "end_time": "2025-02-11T11:19:30.824161200Z",
     "start_time": "2025-02-11T11:19:30.764293Z"
    }
   },
   "id": "eb985de1de69aca4",
   "execution_count": 4
  },
  {
   "cell_type": "code",
   "outputs": [],
   "source": [
    "#Localizando região de Campinas para amostragem\n",
    "enem_campinas = enem_sp.loc[enem_sp.CO_MUNICIPIO_RESIDENCIA == 3509502]"
   ],
   "metadata": {
    "collapsed": false,
    "ExecuteTime": {
     "end_time": "2025-02-11T11:19:30.836588700Z",
     "start_time": "2025-02-11T11:19:30.813798300Z"
    }
   },
   "id": "167d971b092aa746",
   "execution_count": 5
  },
  {
   "cell_type": "code",
   "outputs": [
    {
     "data": {
      "text/plain": "    INSCRICAO  CO_MUNICIPIO_RESIDENCIA NO_MUNICIPIO_RESIDENCIA  NU_IDADE  \\\n15   1,90E+11                  3509502                Campinas        17   \n31   1,90E+11                  3509502                Campinas        19   \n51   1,90E+11                  3509502                Campinas        17   \n116  1,90E+11                  3509502                Campinas        17   \n169  1,90E+11                  3509502                Campinas        17   \n\n    TP_SEXO  TP_ESTADO_CIVIL TP_COR_RACA  TP_NACIONALIDADE  TP_ST_CONCLUSAO  \\\n15        F                1      Branca                 1                1   \n31        F                1       Parda                 1                1   \n51        F                1      Branca                 1                2   \n116       F                1      Branca                 1                2   \n169       M                1      Branca                 1                2   \n\n         TP_ESCOLA  ...  NU_NOTA_MT TP_LINGUA  TP_STATUS_REDACAO  \\\n15   Não respondeu  ...       496.5    Inglês                1.0   \n31   Não respondeu  ...        73.1    Inglês                1.0   \n51         Pública  ...       417.5    Inglês                1.0   \n116        Pública  ...       480.5  Espanhol                1.0   \n169        Privada  ...       624.4    Inglês                1.0   \n\n     NU_NOTA_COMP1  NU_NOTA_COMP2  NU_NOTA_COMP3  NU_NOTA_COMP4  \\\n15           160.0          120.0          140.0          140.0   \n31           140.0          120.0          160.0          140.0   \n51           160.0          140.0          160.0          120.0   \n116          120.0           60.0           60.0          100.0   \n169          140.0          120.0          140.0          160.0   \n\n     NU_NOTA_COMP5  NU_NOTA_REDACAO  INTERNET  \n15           120.0            680.0       Sim  \n31           160.0            720.0       Sim  \n51           160.0            740.0       Sim  \n116            0.0            340.0       Sim  \n169          160.0            720.0       Sim  \n\n[5 rows x 30 columns]",
      "text/html": "<div>\n<style scoped>\n    .dataframe tbody tr th:only-of-type {\n        vertical-align: middle;\n    }\n\n    .dataframe tbody tr th {\n        vertical-align: top;\n    }\n\n    .dataframe thead th {\n        text-align: right;\n    }\n</style>\n<table border=\"1\" class=\"dataframe\">\n  <thead>\n    <tr style=\"text-align: right;\">\n      <th></th>\n      <th>INSCRICAO</th>\n      <th>CO_MUNICIPIO_RESIDENCIA</th>\n      <th>NO_MUNICIPIO_RESIDENCIA</th>\n      <th>NU_IDADE</th>\n      <th>TP_SEXO</th>\n      <th>TP_ESTADO_CIVIL</th>\n      <th>TP_COR_RACA</th>\n      <th>TP_NACIONALIDADE</th>\n      <th>TP_ST_CONCLUSAO</th>\n      <th>TP_ESCOLA</th>\n      <th>...</th>\n      <th>NU_NOTA_MT</th>\n      <th>TP_LINGUA</th>\n      <th>TP_STATUS_REDACAO</th>\n      <th>NU_NOTA_COMP1</th>\n      <th>NU_NOTA_COMP2</th>\n      <th>NU_NOTA_COMP3</th>\n      <th>NU_NOTA_COMP4</th>\n      <th>NU_NOTA_COMP5</th>\n      <th>NU_NOTA_REDACAO</th>\n      <th>INTERNET</th>\n    </tr>\n  </thead>\n  <tbody>\n    <tr>\n      <th>15</th>\n      <td>1,90E+11</td>\n      <td>3509502</td>\n      <td>Campinas</td>\n      <td>17</td>\n      <td>F</td>\n      <td>1</td>\n      <td>Branca</td>\n      <td>1</td>\n      <td>1</td>\n      <td>Não respondeu</td>\n      <td>...</td>\n      <td>496.5</td>\n      <td>Inglês</td>\n      <td>1.0</td>\n      <td>160.0</td>\n      <td>120.0</td>\n      <td>140.0</td>\n      <td>140.0</td>\n      <td>120.0</td>\n      <td>680.0</td>\n      <td>Sim</td>\n    </tr>\n    <tr>\n      <th>31</th>\n      <td>1,90E+11</td>\n      <td>3509502</td>\n      <td>Campinas</td>\n      <td>19</td>\n      <td>F</td>\n      <td>1</td>\n      <td>Parda</td>\n      <td>1</td>\n      <td>1</td>\n      <td>Não respondeu</td>\n      <td>...</td>\n      <td>73.1</td>\n      <td>Inglês</td>\n      <td>1.0</td>\n      <td>140.0</td>\n      <td>120.0</td>\n      <td>160.0</td>\n      <td>140.0</td>\n      <td>160.0</td>\n      <td>720.0</td>\n      <td>Sim</td>\n    </tr>\n    <tr>\n      <th>51</th>\n      <td>1,90E+11</td>\n      <td>3509502</td>\n      <td>Campinas</td>\n      <td>17</td>\n      <td>F</td>\n      <td>1</td>\n      <td>Branca</td>\n      <td>1</td>\n      <td>2</td>\n      <td>Pública</td>\n      <td>...</td>\n      <td>417.5</td>\n      <td>Inglês</td>\n      <td>1.0</td>\n      <td>160.0</td>\n      <td>140.0</td>\n      <td>160.0</td>\n      <td>120.0</td>\n      <td>160.0</td>\n      <td>740.0</td>\n      <td>Sim</td>\n    </tr>\n    <tr>\n      <th>116</th>\n      <td>1,90E+11</td>\n      <td>3509502</td>\n      <td>Campinas</td>\n      <td>17</td>\n      <td>F</td>\n      <td>1</td>\n      <td>Branca</td>\n      <td>1</td>\n      <td>2</td>\n      <td>Pública</td>\n      <td>...</td>\n      <td>480.5</td>\n      <td>Espanhol</td>\n      <td>1.0</td>\n      <td>120.0</td>\n      <td>60.0</td>\n      <td>60.0</td>\n      <td>100.0</td>\n      <td>0.0</td>\n      <td>340.0</td>\n      <td>Sim</td>\n    </tr>\n    <tr>\n      <th>169</th>\n      <td>1,90E+11</td>\n      <td>3509502</td>\n      <td>Campinas</td>\n      <td>17</td>\n      <td>M</td>\n      <td>1</td>\n      <td>Branca</td>\n      <td>1</td>\n      <td>2</td>\n      <td>Privada</td>\n      <td>...</td>\n      <td>624.4</td>\n      <td>Inglês</td>\n      <td>1.0</td>\n      <td>140.0</td>\n      <td>120.0</td>\n      <td>140.0</td>\n      <td>160.0</td>\n      <td>160.0</td>\n      <td>720.0</td>\n      <td>Sim</td>\n    </tr>\n  </tbody>\n</table>\n<p>5 rows × 30 columns</p>\n</div>"
     },
     "execution_count": 6,
     "metadata": {},
     "output_type": "execute_result"
    }
   ],
   "source": [
    "enem_campinas.head()"
   ],
   "metadata": {
    "collapsed": false,
    "ExecuteTime": {
     "end_time": "2025-02-11T11:19:30.965443300Z",
     "start_time": "2025-02-11T11:19:30.852249400Z"
    }
   },
   "id": "8eb7a3402c5665fa",
   "execution_count": 6
  },
  {
   "cell_type": "code",
   "outputs": [
    {
     "data": {
      "text/plain": "(13198, 30)"
     },
     "execution_count": 7,
     "metadata": {},
     "output_type": "execute_result"
    }
   ],
   "source": [
    "enem_campinas.shape"
   ],
   "metadata": {
    "collapsed": false,
    "ExecuteTime": {
     "end_time": "2025-02-11T11:19:31.068219200Z",
     "start_time": "2025-02-11T11:19:30.864455300Z"
    }
   },
   "id": "acb33df5da31168b",
   "execution_count": 7
  },
  {
   "cell_type": "code",
   "outputs": [],
   "source": [
    "#Semente Aleatória (Esse comando garante que a amostragem do código abaixo será sempre a mesma)\n",
    "np.random.seed(1)"
   ],
   "metadata": {
    "collapsed": false,
    "ExecuteTime": {
     "end_time": "2025-02-11T11:19:31.069682300Z",
     "start_time": "2025-02-11T11:19:30.876516800Z"
    }
   },
   "id": "576de62932ae52f6",
   "execution_count": 8
  },
  {
   "cell_type": "code",
   "outputs": [],
   "source": [
    "#Amostragem Aleatória Simples (20% da população de Campinas 13.198)\n",
    "amos_simples = enem_campinas.sample(frac=0.20)\n"
   ],
   "metadata": {
    "collapsed": false,
    "ExecuteTime": {
     "end_time": "2025-02-11T11:19:31.108137400Z",
     "start_time": "2025-02-11T11:19:30.889284Z"
    }
   },
   "id": "fdb0cf36701ade80",
   "execution_count": 9
  },
  {
   "cell_type": "code",
   "outputs": [
    {
     "data": {
      "text/plain": "       INSCRICAO  CO_MUNICIPIO_RESIDENCIA NO_MUNICIPIO_RESIDENCIA  NU_IDADE  \\\n327999  1,90E+11                  3509502                Campinas        20   \n235222  1,90E+11                  3509502                Campinas        17   \n134221  1,90E+11                  3509502                Campinas        18   \n358407  1,90E+11                  3509502                Campinas        25   \n173364  1,90E+11                  3509502                Campinas        18   \n...          ...                      ...                     ...       ...   \n452747  1,90E+11                  3509502                Campinas        45   \n362918  1,90E+11                  3509502                Campinas        19   \n221397  1,90E+11                  3509502                Campinas        19   \n76628   1,90E+11                  3509502                Campinas        17   \n126402  1,90E+11                  3509502                Campinas        17   \n\n       TP_SEXO  TP_ESTADO_CIVIL TP_COR_RACA  TP_NACIONALIDADE  \\\n327999       M                1       Preta                 1   \n235222       F                1      Branca                 1   \n134221       F                1       Parda                 1   \n358407       M                0       Parda                 1   \n173364       M                1       Parda                 1   \n...        ...              ...         ...               ...   \n452747       F                1      Branca                 1   \n362918       M                1       Preta                 1   \n221397       F                1      Branca                 1   \n76628        M                0      Branca                 1   \n126402       F                1       Parda                 1   \n\n        TP_ST_CONCLUSAO      TP_ESCOLA  ...  NU_NOTA_MT TP_LINGUA  \\\n327999                1  Não respondeu  ...       459.6    Inglês   \n235222                2        Pública  ...        48.8    Inglês   \n134221                2        Pública  ...       429.9    Inglês   \n358407                1  Não respondeu  ...       687.4  Espanhol   \n173364                1  Não respondeu  ...       617.9    Inglês   \n...                 ...            ...  ...         ...       ...   \n452747                1  Não respondeu  ...       373.5  Espanhol   \n362918                1  Não respondeu  ...       450.7    Inglês   \n221397                1  Não respondeu  ...       524.8  Espanhol   \n76628                 2        Pública  ...       649.7    Inglês   \n126402                2        Pública  ...       376.6  Espanhol   \n\n        TP_STATUS_REDACAO  NU_NOTA_COMP1  NU_NOTA_COMP2  NU_NOTA_COMP3  \\\n327999                1.0          180.0          200.0          180.0   \n235222                1.0          160.0          180.0          160.0   \n134221                1.0          100.0          120.0          100.0   \n358407                1.0          140.0          120.0          120.0   \n173364                1.0          140.0          120.0          140.0   \n...                   ...            ...            ...            ...   \n452747                1.0           80.0           80.0           80.0   \n362918                1.0          120.0           40.0           40.0   \n221397                1.0          120.0          120.0          120.0   \n76628                 1.0          120.0          120.0          120.0   \n126402                1.0          120.0          160.0          140.0   \n\n        NU_NOTA_COMP4  NU_NOTA_COMP5  NU_NOTA_REDACAO  INTERNET  \n327999          200.0          200.0            960.0       Sim  \n235222          140.0          140.0            780.0       Sim  \n134221           80.0          100.0            500.0       Sim  \n358407          140.0          140.0            660.0       Não  \n173364          140.0           80.0            620.0       Sim  \n...               ...            ...              ...       ...  \n452747           80.0           80.0            400.0       Sim  \n362918          120.0            0.0            320.0       Sim  \n221397          120.0          100.0            580.0       Sim  \n76628           120.0           80.0            560.0       Sim  \n126402          120.0          140.0            680.0       Sim  \n\n[2640 rows x 30 columns]",
      "text/html": "<div>\n<style scoped>\n    .dataframe tbody tr th:only-of-type {\n        vertical-align: middle;\n    }\n\n    .dataframe tbody tr th {\n        vertical-align: top;\n    }\n\n    .dataframe thead th {\n        text-align: right;\n    }\n</style>\n<table border=\"1\" class=\"dataframe\">\n  <thead>\n    <tr style=\"text-align: right;\">\n      <th></th>\n      <th>INSCRICAO</th>\n      <th>CO_MUNICIPIO_RESIDENCIA</th>\n      <th>NO_MUNICIPIO_RESIDENCIA</th>\n      <th>NU_IDADE</th>\n      <th>TP_SEXO</th>\n      <th>TP_ESTADO_CIVIL</th>\n      <th>TP_COR_RACA</th>\n      <th>TP_NACIONALIDADE</th>\n      <th>TP_ST_CONCLUSAO</th>\n      <th>TP_ESCOLA</th>\n      <th>...</th>\n      <th>NU_NOTA_MT</th>\n      <th>TP_LINGUA</th>\n      <th>TP_STATUS_REDACAO</th>\n      <th>NU_NOTA_COMP1</th>\n      <th>NU_NOTA_COMP2</th>\n      <th>NU_NOTA_COMP3</th>\n      <th>NU_NOTA_COMP4</th>\n      <th>NU_NOTA_COMP5</th>\n      <th>NU_NOTA_REDACAO</th>\n      <th>INTERNET</th>\n    </tr>\n  </thead>\n  <tbody>\n    <tr>\n      <th>327999</th>\n      <td>1,90E+11</td>\n      <td>3509502</td>\n      <td>Campinas</td>\n      <td>20</td>\n      <td>M</td>\n      <td>1</td>\n      <td>Preta</td>\n      <td>1</td>\n      <td>1</td>\n      <td>Não respondeu</td>\n      <td>...</td>\n      <td>459.6</td>\n      <td>Inglês</td>\n      <td>1.0</td>\n      <td>180.0</td>\n      <td>200.0</td>\n      <td>180.0</td>\n      <td>200.0</td>\n      <td>200.0</td>\n      <td>960.0</td>\n      <td>Sim</td>\n    </tr>\n    <tr>\n      <th>235222</th>\n      <td>1,90E+11</td>\n      <td>3509502</td>\n      <td>Campinas</td>\n      <td>17</td>\n      <td>F</td>\n      <td>1</td>\n      <td>Branca</td>\n      <td>1</td>\n      <td>2</td>\n      <td>Pública</td>\n      <td>...</td>\n      <td>48.8</td>\n      <td>Inglês</td>\n      <td>1.0</td>\n      <td>160.0</td>\n      <td>180.0</td>\n      <td>160.0</td>\n      <td>140.0</td>\n      <td>140.0</td>\n      <td>780.0</td>\n      <td>Sim</td>\n    </tr>\n    <tr>\n      <th>134221</th>\n      <td>1,90E+11</td>\n      <td>3509502</td>\n      <td>Campinas</td>\n      <td>18</td>\n      <td>F</td>\n      <td>1</td>\n      <td>Parda</td>\n      <td>1</td>\n      <td>2</td>\n      <td>Pública</td>\n      <td>...</td>\n      <td>429.9</td>\n      <td>Inglês</td>\n      <td>1.0</td>\n      <td>100.0</td>\n      <td>120.0</td>\n      <td>100.0</td>\n      <td>80.0</td>\n      <td>100.0</td>\n      <td>500.0</td>\n      <td>Sim</td>\n    </tr>\n    <tr>\n      <th>358407</th>\n      <td>1,90E+11</td>\n      <td>3509502</td>\n      <td>Campinas</td>\n      <td>25</td>\n      <td>M</td>\n      <td>0</td>\n      <td>Parda</td>\n      <td>1</td>\n      <td>1</td>\n      <td>Não respondeu</td>\n      <td>...</td>\n      <td>687.4</td>\n      <td>Espanhol</td>\n      <td>1.0</td>\n      <td>140.0</td>\n      <td>120.0</td>\n      <td>120.0</td>\n      <td>140.0</td>\n      <td>140.0</td>\n      <td>660.0</td>\n      <td>Não</td>\n    </tr>\n    <tr>\n      <th>173364</th>\n      <td>1,90E+11</td>\n      <td>3509502</td>\n      <td>Campinas</td>\n      <td>18</td>\n      <td>M</td>\n      <td>1</td>\n      <td>Parda</td>\n      <td>1</td>\n      <td>1</td>\n      <td>Não respondeu</td>\n      <td>...</td>\n      <td>617.9</td>\n      <td>Inglês</td>\n      <td>1.0</td>\n      <td>140.0</td>\n      <td>120.0</td>\n      <td>140.0</td>\n      <td>140.0</td>\n      <td>80.0</td>\n      <td>620.0</td>\n      <td>Sim</td>\n    </tr>\n    <tr>\n      <th>...</th>\n      <td>...</td>\n      <td>...</td>\n      <td>...</td>\n      <td>...</td>\n      <td>...</td>\n      <td>...</td>\n      <td>...</td>\n      <td>...</td>\n      <td>...</td>\n      <td>...</td>\n      <td>...</td>\n      <td>...</td>\n      <td>...</td>\n      <td>...</td>\n      <td>...</td>\n      <td>...</td>\n      <td>...</td>\n      <td>...</td>\n      <td>...</td>\n      <td>...</td>\n      <td>...</td>\n    </tr>\n    <tr>\n      <th>452747</th>\n      <td>1,90E+11</td>\n      <td>3509502</td>\n      <td>Campinas</td>\n      <td>45</td>\n      <td>F</td>\n      <td>1</td>\n      <td>Branca</td>\n      <td>1</td>\n      <td>1</td>\n      <td>Não respondeu</td>\n      <td>...</td>\n      <td>373.5</td>\n      <td>Espanhol</td>\n      <td>1.0</td>\n      <td>80.0</td>\n      <td>80.0</td>\n      <td>80.0</td>\n      <td>80.0</td>\n      <td>80.0</td>\n      <td>400.0</td>\n      <td>Sim</td>\n    </tr>\n    <tr>\n      <th>362918</th>\n      <td>1,90E+11</td>\n      <td>3509502</td>\n      <td>Campinas</td>\n      <td>19</td>\n      <td>M</td>\n      <td>1</td>\n      <td>Preta</td>\n      <td>1</td>\n      <td>1</td>\n      <td>Não respondeu</td>\n      <td>...</td>\n      <td>450.7</td>\n      <td>Inglês</td>\n      <td>1.0</td>\n      <td>120.0</td>\n      <td>40.0</td>\n      <td>40.0</td>\n      <td>120.0</td>\n      <td>0.0</td>\n      <td>320.0</td>\n      <td>Sim</td>\n    </tr>\n    <tr>\n      <th>221397</th>\n      <td>1,90E+11</td>\n      <td>3509502</td>\n      <td>Campinas</td>\n      <td>19</td>\n      <td>F</td>\n      <td>1</td>\n      <td>Branca</td>\n      <td>1</td>\n      <td>1</td>\n      <td>Não respondeu</td>\n      <td>...</td>\n      <td>524.8</td>\n      <td>Espanhol</td>\n      <td>1.0</td>\n      <td>120.0</td>\n      <td>120.0</td>\n      <td>120.0</td>\n      <td>120.0</td>\n      <td>100.0</td>\n      <td>580.0</td>\n      <td>Sim</td>\n    </tr>\n    <tr>\n      <th>76628</th>\n      <td>1,90E+11</td>\n      <td>3509502</td>\n      <td>Campinas</td>\n      <td>17</td>\n      <td>M</td>\n      <td>0</td>\n      <td>Branca</td>\n      <td>1</td>\n      <td>2</td>\n      <td>Pública</td>\n      <td>...</td>\n      <td>649.7</td>\n      <td>Inglês</td>\n      <td>1.0</td>\n      <td>120.0</td>\n      <td>120.0</td>\n      <td>120.0</td>\n      <td>120.0</td>\n      <td>80.0</td>\n      <td>560.0</td>\n      <td>Sim</td>\n    </tr>\n    <tr>\n      <th>126402</th>\n      <td>1,90E+11</td>\n      <td>3509502</td>\n      <td>Campinas</td>\n      <td>17</td>\n      <td>F</td>\n      <td>1</td>\n      <td>Parda</td>\n      <td>1</td>\n      <td>2</td>\n      <td>Pública</td>\n      <td>...</td>\n      <td>376.6</td>\n      <td>Espanhol</td>\n      <td>1.0</td>\n      <td>120.0</td>\n      <td>160.0</td>\n      <td>140.0</td>\n      <td>120.0</td>\n      <td>140.0</td>\n      <td>680.0</td>\n      <td>Sim</td>\n    </tr>\n  </tbody>\n</table>\n<p>2640 rows × 30 columns</p>\n</div>"
     },
     "execution_count": 10,
     "metadata": {},
     "output_type": "execute_result"
    }
   ],
   "source": [
    "amos_simples"
   ],
   "metadata": {
    "collapsed": false,
    "ExecuteTime": {
     "end_time": "2025-02-11T11:19:31.114159100Z",
     "start_time": "2025-02-11T11:19:30.902420900Z"
    }
   },
   "id": "452c77577e549bdb",
   "execution_count": 10
  },
  {
   "cell_type": "code",
   "outputs": [],
   "source": [
    "#Amostragem Aleatória Simples (3.000 registros da população de Campinas 13.198)\n",
    "amos_simples = enem_campinas.sample(3000)"
   ],
   "metadata": {
    "collapsed": false,
    "ExecuteTime": {
     "end_time": "2025-02-11T11:19:31.150869Z",
     "start_time": "2025-02-11T11:19:30.948698800Z"
    }
   },
   "id": "6f1853097c2f0287",
   "execution_count": 11
  },
  {
   "cell_type": "code",
   "outputs": [
    {
     "data": {
      "text/plain": "       INSCRICAO  CO_MUNICIPIO_RESIDENCIA NO_MUNICIPIO_RESIDENCIA  NU_IDADE  \\\n57191   1,90E+11                  3509502                Campinas        17   \n215078  1,90E+11                  3509502                Campinas        17   \n430770  1,90E+11                  3509502                Campinas        18   \n409180  1,90E+11                  3509502                Campinas        19   \n429862  1,90E+11                  3509502                Campinas        17   \n...          ...                      ...                     ...       ...   \n238949  1,90E+11                  3509502                Campinas        22   \n242711  1,90E+11                  3509502                Campinas        17   \n467039  1,90E+11                  3509502                Campinas        17   \n189967  1,90E+11                  3509502                Campinas        19   \n282921  1,90E+11                  3509502                Campinas        18   \n\n       TP_SEXO  TP_ESTADO_CIVIL TP_COR_RACA  TP_NACIONALIDADE  \\\n57191        F                1     Amarela                 1   \n215078       F                1       Parda                 1   \n430770       M                1      Branca                 1   \n409180       F                1       Preta                 1   \n429862       F                1      Branca                 1   \n...        ...              ...         ...               ...   \n238949       F                1       Preta                 1   \n242711       F                1       Parda                 1   \n467039       F                1       Preta                 1   \n189967       F                1       Parda                 1   \n282921       F                1       Parda                 1   \n\n        TP_ST_CONCLUSAO      TP_ESCOLA  ...  NU_NOTA_MT TP_LINGUA  \\\n57191                 2        Pública  ...       653.8    Inglês   \n215078                2        Pública  ...       507.8    Inglês   \n430770                2        Privada  ...       823.3    Inglês   \n409180                2        Pública  ...       574.7    Inglês   \n429862                2        Pública  ...       522.7    Inglês   \n...                 ...            ...  ...         ...       ...   \n238949                1  Não respondeu  ...       601.2    Inglês   \n242711                2        Privada  ...       628.3    Inglês   \n467039                2        Pública  ...       382.6    Inglês   \n189967                1  Não respondeu  ...       455.1  Espanhol   \n282921                2        Pública  ...       511.2    Inglês   \n\n        TP_STATUS_REDACAO  NU_NOTA_COMP1  NU_NOTA_COMP2  NU_NOTA_COMP3  \\\n57191                 1.0          120.0          120.0          120.0   \n215078                1.0          120.0          120.0          120.0   \n430770                1.0          140.0          180.0          120.0   \n409180                1.0          120.0          120.0          120.0   \n429862                1.0          140.0          120.0          120.0   \n...                   ...            ...            ...            ...   \n238949                1.0          160.0          120.0          160.0   \n242711                1.0          160.0          140.0          160.0   \n467039                1.0           80.0          120.0          100.0   \n189967                1.0          100.0          140.0          120.0   \n282921                1.0          120.0          140.0          120.0   \n\n        NU_NOTA_COMP4  NU_NOTA_COMP5  NU_NOTA_REDACAO  INTERNET  \n57191           140.0          120.0            620.0       Sim  \n215078          120.0          100.0            580.0       Sim  \n430770          160.0          160.0            760.0       Sim  \n409180          120.0          140.0            620.0       Sim  \n429862          160.0          100.0            640.0       Sim  \n...               ...            ...              ...       ...  \n238949          160.0          180.0            780.0       Sim  \n242711          160.0          180.0            800.0       Sim  \n467039          100.0          100.0            500.0       Sim  \n189967          140.0          120.0            620.0       Não  \n282921          140.0          140.0            660.0       Sim  \n\n[3000 rows x 30 columns]",
      "text/html": "<div>\n<style scoped>\n    .dataframe tbody tr th:only-of-type {\n        vertical-align: middle;\n    }\n\n    .dataframe tbody tr th {\n        vertical-align: top;\n    }\n\n    .dataframe thead th {\n        text-align: right;\n    }\n</style>\n<table border=\"1\" class=\"dataframe\">\n  <thead>\n    <tr style=\"text-align: right;\">\n      <th></th>\n      <th>INSCRICAO</th>\n      <th>CO_MUNICIPIO_RESIDENCIA</th>\n      <th>NO_MUNICIPIO_RESIDENCIA</th>\n      <th>NU_IDADE</th>\n      <th>TP_SEXO</th>\n      <th>TP_ESTADO_CIVIL</th>\n      <th>TP_COR_RACA</th>\n      <th>TP_NACIONALIDADE</th>\n      <th>TP_ST_CONCLUSAO</th>\n      <th>TP_ESCOLA</th>\n      <th>...</th>\n      <th>NU_NOTA_MT</th>\n      <th>TP_LINGUA</th>\n      <th>TP_STATUS_REDACAO</th>\n      <th>NU_NOTA_COMP1</th>\n      <th>NU_NOTA_COMP2</th>\n      <th>NU_NOTA_COMP3</th>\n      <th>NU_NOTA_COMP4</th>\n      <th>NU_NOTA_COMP5</th>\n      <th>NU_NOTA_REDACAO</th>\n      <th>INTERNET</th>\n    </tr>\n  </thead>\n  <tbody>\n    <tr>\n      <th>57191</th>\n      <td>1,90E+11</td>\n      <td>3509502</td>\n      <td>Campinas</td>\n      <td>17</td>\n      <td>F</td>\n      <td>1</td>\n      <td>Amarela</td>\n      <td>1</td>\n      <td>2</td>\n      <td>Pública</td>\n      <td>...</td>\n      <td>653.8</td>\n      <td>Inglês</td>\n      <td>1.0</td>\n      <td>120.0</td>\n      <td>120.0</td>\n      <td>120.0</td>\n      <td>140.0</td>\n      <td>120.0</td>\n      <td>620.0</td>\n      <td>Sim</td>\n    </tr>\n    <tr>\n      <th>215078</th>\n      <td>1,90E+11</td>\n      <td>3509502</td>\n      <td>Campinas</td>\n      <td>17</td>\n      <td>F</td>\n      <td>1</td>\n      <td>Parda</td>\n      <td>1</td>\n      <td>2</td>\n      <td>Pública</td>\n      <td>...</td>\n      <td>507.8</td>\n      <td>Inglês</td>\n      <td>1.0</td>\n      <td>120.0</td>\n      <td>120.0</td>\n      <td>120.0</td>\n      <td>120.0</td>\n      <td>100.0</td>\n      <td>580.0</td>\n      <td>Sim</td>\n    </tr>\n    <tr>\n      <th>430770</th>\n      <td>1,90E+11</td>\n      <td>3509502</td>\n      <td>Campinas</td>\n      <td>18</td>\n      <td>M</td>\n      <td>1</td>\n      <td>Branca</td>\n      <td>1</td>\n      <td>2</td>\n      <td>Privada</td>\n      <td>...</td>\n      <td>823.3</td>\n      <td>Inglês</td>\n      <td>1.0</td>\n      <td>140.0</td>\n      <td>180.0</td>\n      <td>120.0</td>\n      <td>160.0</td>\n      <td>160.0</td>\n      <td>760.0</td>\n      <td>Sim</td>\n    </tr>\n    <tr>\n      <th>409180</th>\n      <td>1,90E+11</td>\n      <td>3509502</td>\n      <td>Campinas</td>\n      <td>19</td>\n      <td>F</td>\n      <td>1</td>\n      <td>Preta</td>\n      <td>1</td>\n      <td>2</td>\n      <td>Pública</td>\n      <td>...</td>\n      <td>574.7</td>\n      <td>Inglês</td>\n      <td>1.0</td>\n      <td>120.0</td>\n      <td>120.0</td>\n      <td>120.0</td>\n      <td>120.0</td>\n      <td>140.0</td>\n      <td>620.0</td>\n      <td>Sim</td>\n    </tr>\n    <tr>\n      <th>429862</th>\n      <td>1,90E+11</td>\n      <td>3509502</td>\n      <td>Campinas</td>\n      <td>17</td>\n      <td>F</td>\n      <td>1</td>\n      <td>Branca</td>\n      <td>1</td>\n      <td>2</td>\n      <td>Pública</td>\n      <td>...</td>\n      <td>522.7</td>\n      <td>Inglês</td>\n      <td>1.0</td>\n      <td>140.0</td>\n      <td>120.0</td>\n      <td>120.0</td>\n      <td>160.0</td>\n      <td>100.0</td>\n      <td>640.0</td>\n      <td>Sim</td>\n    </tr>\n    <tr>\n      <th>...</th>\n      <td>...</td>\n      <td>...</td>\n      <td>...</td>\n      <td>...</td>\n      <td>...</td>\n      <td>...</td>\n      <td>...</td>\n      <td>...</td>\n      <td>...</td>\n      <td>...</td>\n      <td>...</td>\n      <td>...</td>\n      <td>...</td>\n      <td>...</td>\n      <td>...</td>\n      <td>...</td>\n      <td>...</td>\n      <td>...</td>\n      <td>...</td>\n      <td>...</td>\n      <td>...</td>\n    </tr>\n    <tr>\n      <th>238949</th>\n      <td>1,90E+11</td>\n      <td>3509502</td>\n      <td>Campinas</td>\n      <td>22</td>\n      <td>F</td>\n      <td>1</td>\n      <td>Preta</td>\n      <td>1</td>\n      <td>1</td>\n      <td>Não respondeu</td>\n      <td>...</td>\n      <td>601.2</td>\n      <td>Inglês</td>\n      <td>1.0</td>\n      <td>160.0</td>\n      <td>120.0</td>\n      <td>160.0</td>\n      <td>160.0</td>\n      <td>180.0</td>\n      <td>780.0</td>\n      <td>Sim</td>\n    </tr>\n    <tr>\n      <th>242711</th>\n      <td>1,90E+11</td>\n      <td>3509502</td>\n      <td>Campinas</td>\n      <td>17</td>\n      <td>F</td>\n      <td>1</td>\n      <td>Parda</td>\n      <td>1</td>\n      <td>2</td>\n      <td>Privada</td>\n      <td>...</td>\n      <td>628.3</td>\n      <td>Inglês</td>\n      <td>1.0</td>\n      <td>160.0</td>\n      <td>140.0</td>\n      <td>160.0</td>\n      <td>160.0</td>\n      <td>180.0</td>\n      <td>800.0</td>\n      <td>Sim</td>\n    </tr>\n    <tr>\n      <th>467039</th>\n      <td>1,90E+11</td>\n      <td>3509502</td>\n      <td>Campinas</td>\n      <td>17</td>\n      <td>F</td>\n      <td>1</td>\n      <td>Preta</td>\n      <td>1</td>\n      <td>2</td>\n      <td>Pública</td>\n      <td>...</td>\n      <td>382.6</td>\n      <td>Inglês</td>\n      <td>1.0</td>\n      <td>80.0</td>\n      <td>120.0</td>\n      <td>100.0</td>\n      <td>100.0</td>\n      <td>100.0</td>\n      <td>500.0</td>\n      <td>Sim</td>\n    </tr>\n    <tr>\n      <th>189967</th>\n      <td>1,90E+11</td>\n      <td>3509502</td>\n      <td>Campinas</td>\n      <td>19</td>\n      <td>F</td>\n      <td>1</td>\n      <td>Parda</td>\n      <td>1</td>\n      <td>1</td>\n      <td>Não respondeu</td>\n      <td>...</td>\n      <td>455.1</td>\n      <td>Espanhol</td>\n      <td>1.0</td>\n      <td>100.0</td>\n      <td>140.0</td>\n      <td>120.0</td>\n      <td>140.0</td>\n      <td>120.0</td>\n      <td>620.0</td>\n      <td>Não</td>\n    </tr>\n    <tr>\n      <th>282921</th>\n      <td>1,90E+11</td>\n      <td>3509502</td>\n      <td>Campinas</td>\n      <td>18</td>\n      <td>F</td>\n      <td>1</td>\n      <td>Parda</td>\n      <td>1</td>\n      <td>2</td>\n      <td>Pública</td>\n      <td>...</td>\n      <td>511.2</td>\n      <td>Inglês</td>\n      <td>1.0</td>\n      <td>120.0</td>\n      <td>140.0</td>\n      <td>120.0</td>\n      <td>140.0</td>\n      <td>140.0</td>\n      <td>660.0</td>\n      <td>Sim</td>\n    </tr>\n  </tbody>\n</table>\n<p>3000 rows × 30 columns</p>\n</div>"
     },
     "execution_count": 12,
     "metadata": {},
     "output_type": "execute_result"
    }
   ],
   "source": [
    "amos_simples"
   ],
   "metadata": {
    "collapsed": false,
    "ExecuteTime": {
     "end_time": "2025-02-11T11:19:31.162110900Z",
     "start_time": "2025-02-11T11:19:30.957873400Z"
    }
   },
   "id": "ff54747da3b9d2f1",
   "execution_count": 12
  },
  {
   "cell_type": "code",
   "outputs": [
    {
     "data": {
      "text/plain": "(13198, 30)"
     },
     "execution_count": 13,
     "metadata": {},
     "output_type": "execute_result"
    }
   ],
   "source": [
    "#Amostragem Sistemática (Seleciona uma sequência a partir de um valor inicial)\n",
    "enem_campinas.shape"
   ],
   "metadata": {
    "collapsed": false,
    "ExecuteTime": {
     "end_time": "2025-02-11T11:19:31.163112Z",
     "start_time": "2025-02-11T11:19:30.989423100Z"
    }
   },
   "id": "285aad8ecc00d7bc",
   "execution_count": 13
  },
  {
   "cell_type": "code",
   "outputs": [],
   "source": [
    "np.random.seed(2)"
   ],
   "metadata": {
    "collapsed": false,
    "ExecuteTime": {
     "end_time": "2025-02-11T11:19:31.164109500Z",
     "start_time": "2025-02-11T11:19:30.999970600Z"
    }
   },
   "id": "98a830d1f0d2e4bb",
   "execution_count": 14
  },
  {
   "cell_type": "code",
   "outputs": [],
   "source": [
    "#Variável para marcar onde a amostragem deve iniciar (número aleatório entre 1 e 10)\n",
    "inicio = np.random.choice(10,1)"
   ],
   "metadata": {
    "collapsed": false,
    "ExecuteTime": {
     "end_time": "2025-02-11T11:19:31.230056Z",
     "start_time": "2025-02-11T11:19:31.009020400Z"
    }
   },
   "id": "f1de6f2c54f32a1",
   "execution_count": 15
  },
  {
   "cell_type": "code",
   "outputs": [
    {
     "data": {
      "text/plain": "array([    8,   108,   208,   308,   408,   508,   608,   708,   808,\n         908,  1008,  1108,  1208,  1308,  1408,  1508,  1608,  1708,\n        1808,  1908,  2008,  2108,  2208,  2308,  2408,  2508,  2608,\n        2708,  2808,  2908,  3008,  3108,  3208,  3308,  3408,  3508,\n        3608,  3708,  3808,  3908,  4008,  4108,  4208,  4308,  4408,\n        4508,  4608,  4708,  4808,  4908,  5008,  5108,  5208,  5308,\n        5408,  5508,  5608,  5708,  5808,  5908,  6008,  6108,  6208,\n        6308,  6408,  6508,  6608,  6708,  6808,  6908,  7008,  7108,\n        7208,  7308,  7408,  7508,  7608,  7708,  7808,  7908,  8008,\n        8108,  8208,  8308,  8408,  8508,  8608,  8708,  8808,  8908,\n        9008,  9108,  9208,  9308,  9408,  9508,  9608,  9708,  9808,\n        9908, 10008, 10108, 10208, 10308, 10408, 10508, 10608, 10708,\n       10808, 10908, 11008, 11108, 11208, 11308, 11408, 11508, 11608,\n       11708, 11808, 11908, 12008, 12108, 12208, 12308, 12408, 12508,\n       12608, 12708, 12808, 12908, 13008, 13108])"
     },
     "execution_count": 16,
     "metadata": {},
     "output_type": "execute_result"
    }
   ],
   "source": [
    "#Teste do array (avança de 100 em 100)\n",
    "amostra2 = np.arange(inicio,13198,100)\n",
    "amostra2"
   ],
   "metadata": {
    "collapsed": false,
    "ExecuteTime": {
     "end_time": "2025-02-11T11:19:31.234059600Z",
     "start_time": "2025-02-11T11:19:31.020450600Z"
    }
   },
   "id": "e3cb57ba99e4ee63",
   "execution_count": 16
  },
  {
   "cell_type": "code",
   "outputs": [
    {
     "data": {
      "text/plain": "       INSCRICAO  CO_MUNICIPIO_RESIDENCIA NO_MUNICIPIO_RESIDENCIA  NU_IDADE  \\\n401     1,90E+11                  3509502                Campinas        18   \n5079    1,90E+11                  3509502                Campinas        18   \n9218    1,90E+11                  3509502                Campinas        19   \n13685   1,90E+11                  3509502                Campinas        20   \n18239   1,90E+11                  3509502                Campinas        20   \n...          ...                      ...                     ...       ...   \n481894  1,90E+11                  3509502                Campinas        34   \n485805  1,90E+11                  3509502                Campinas        16   \n488958  1,90E+11                  3509502                Campinas        19   \n492626  1,90E+11                  3509502                Campinas        21   \n496410  1,90E+11                  3509502                Campinas        19   \n\n       TP_SEXO  TP_ESTADO_CIVIL TP_COR_RACA  TP_NACIONALIDADE  \\\n401          F                1      Branca                 1   \n5079         F                1      Branca                 1   \n9218         F                1      Branca                 1   \n13685        M                1       Parda                 1   \n18239        M                1      Branca                 1   \n...        ...              ...         ...               ...   \n481894       M                1       Parda                 1   \n485805       F                1      Branca                 1   \n488958       F                1      Branca                 1   \n492626       M                1      Branca                 1   \n496410       M                1       Preta                 1   \n\n        TP_ST_CONCLUSAO      TP_ESCOLA  ...  NU_NOTA_MT TP_LINGUA  \\\n401                   1  Não respondeu  ...        68.6    Inglês   \n5079                  2        Pública  ...       419.9    Inglês   \n9218                  1  Não respondeu  ...       617.1    Inglês   \n13685                 1  Não respondeu  ...       576.4    Inglês   \n18239                 1  Não respondeu  ...       796.2    Inglês   \n...                 ...            ...  ...         ...       ...   \n481894                1  Não respondeu  ...       932.1    Inglês   \n485805                2        Pública  ...       441.6    Inglês   \n488958                1  Não respondeu  ...       492.9    Inglês   \n492626                1  Não respondeu  ...        51.1    Inglês   \n496410                1  Não respondeu  ...       404.4    Inglês   \n\n        TP_STATUS_REDACAO  NU_NOTA_COMP1  NU_NOTA_COMP2  NU_NOTA_COMP3  \\\n401                   1.0          160.0          160.0          180.0   \n5079                  1.0          140.0          120.0          120.0   \n9218                  1.0          120.0          120.0          120.0   \n13685                 1.0          160.0          200.0          180.0   \n18239                 1.0          160.0          200.0          200.0   \n...                   ...            ...            ...            ...   \n481894                1.0          140.0          120.0          160.0   \n485805                1.0          120.0          120.0          100.0   \n488958                1.0          160.0          120.0          140.0   \n492626                1.0          120.0          120.0          120.0   \n496410                1.0          100.0           80.0           80.0   \n\n        NU_NOTA_COMP4  NU_NOTA_COMP5  NU_NOTA_REDACAO  INTERNET  \n401             160.0          200.0            860.0       Sim  \n5079            120.0          140.0            640.0       Sim  \n9218            120.0          120.0            600.0       Sim  \n13685           200.0          180.0            920.0       Sim  \n18239           200.0          200.0            960.0       Sim  \n...               ...            ...              ...       ...  \n481894          160.0          160.0            740.0       Sim  \n485805          120.0            0.0            460.0       Sim  \n488958          120.0          140.0            680.0       Sim  \n492626          100.0            0.0            460.0       Sim  \n496410           80.0           40.0            380.0       Sim  \n\n[132 rows x 30 columns]",
      "text/html": "<div>\n<style scoped>\n    .dataframe tbody tr th:only-of-type {\n        vertical-align: middle;\n    }\n\n    .dataframe tbody tr th {\n        vertical-align: top;\n    }\n\n    .dataframe thead th {\n        text-align: right;\n    }\n</style>\n<table border=\"1\" class=\"dataframe\">\n  <thead>\n    <tr style=\"text-align: right;\">\n      <th></th>\n      <th>INSCRICAO</th>\n      <th>CO_MUNICIPIO_RESIDENCIA</th>\n      <th>NO_MUNICIPIO_RESIDENCIA</th>\n      <th>NU_IDADE</th>\n      <th>TP_SEXO</th>\n      <th>TP_ESTADO_CIVIL</th>\n      <th>TP_COR_RACA</th>\n      <th>TP_NACIONALIDADE</th>\n      <th>TP_ST_CONCLUSAO</th>\n      <th>TP_ESCOLA</th>\n      <th>...</th>\n      <th>NU_NOTA_MT</th>\n      <th>TP_LINGUA</th>\n      <th>TP_STATUS_REDACAO</th>\n      <th>NU_NOTA_COMP1</th>\n      <th>NU_NOTA_COMP2</th>\n      <th>NU_NOTA_COMP3</th>\n      <th>NU_NOTA_COMP4</th>\n      <th>NU_NOTA_COMP5</th>\n      <th>NU_NOTA_REDACAO</th>\n      <th>INTERNET</th>\n    </tr>\n  </thead>\n  <tbody>\n    <tr>\n      <th>401</th>\n      <td>1,90E+11</td>\n      <td>3509502</td>\n      <td>Campinas</td>\n      <td>18</td>\n      <td>F</td>\n      <td>1</td>\n      <td>Branca</td>\n      <td>1</td>\n      <td>1</td>\n      <td>Não respondeu</td>\n      <td>...</td>\n      <td>68.6</td>\n      <td>Inglês</td>\n      <td>1.0</td>\n      <td>160.0</td>\n      <td>160.0</td>\n      <td>180.0</td>\n      <td>160.0</td>\n      <td>200.0</td>\n      <td>860.0</td>\n      <td>Sim</td>\n    </tr>\n    <tr>\n      <th>5079</th>\n      <td>1,90E+11</td>\n      <td>3509502</td>\n      <td>Campinas</td>\n      <td>18</td>\n      <td>F</td>\n      <td>1</td>\n      <td>Branca</td>\n      <td>1</td>\n      <td>2</td>\n      <td>Pública</td>\n      <td>...</td>\n      <td>419.9</td>\n      <td>Inglês</td>\n      <td>1.0</td>\n      <td>140.0</td>\n      <td>120.0</td>\n      <td>120.0</td>\n      <td>120.0</td>\n      <td>140.0</td>\n      <td>640.0</td>\n      <td>Sim</td>\n    </tr>\n    <tr>\n      <th>9218</th>\n      <td>1,90E+11</td>\n      <td>3509502</td>\n      <td>Campinas</td>\n      <td>19</td>\n      <td>F</td>\n      <td>1</td>\n      <td>Branca</td>\n      <td>1</td>\n      <td>1</td>\n      <td>Não respondeu</td>\n      <td>...</td>\n      <td>617.1</td>\n      <td>Inglês</td>\n      <td>1.0</td>\n      <td>120.0</td>\n      <td>120.0</td>\n      <td>120.0</td>\n      <td>120.0</td>\n      <td>120.0</td>\n      <td>600.0</td>\n      <td>Sim</td>\n    </tr>\n    <tr>\n      <th>13685</th>\n      <td>1,90E+11</td>\n      <td>3509502</td>\n      <td>Campinas</td>\n      <td>20</td>\n      <td>M</td>\n      <td>1</td>\n      <td>Parda</td>\n      <td>1</td>\n      <td>1</td>\n      <td>Não respondeu</td>\n      <td>...</td>\n      <td>576.4</td>\n      <td>Inglês</td>\n      <td>1.0</td>\n      <td>160.0</td>\n      <td>200.0</td>\n      <td>180.0</td>\n      <td>200.0</td>\n      <td>180.0</td>\n      <td>920.0</td>\n      <td>Sim</td>\n    </tr>\n    <tr>\n      <th>18239</th>\n      <td>1,90E+11</td>\n      <td>3509502</td>\n      <td>Campinas</td>\n      <td>20</td>\n      <td>M</td>\n      <td>1</td>\n      <td>Branca</td>\n      <td>1</td>\n      <td>1</td>\n      <td>Não respondeu</td>\n      <td>...</td>\n      <td>796.2</td>\n      <td>Inglês</td>\n      <td>1.0</td>\n      <td>160.0</td>\n      <td>200.0</td>\n      <td>200.0</td>\n      <td>200.0</td>\n      <td>200.0</td>\n      <td>960.0</td>\n      <td>Sim</td>\n    </tr>\n    <tr>\n      <th>...</th>\n      <td>...</td>\n      <td>...</td>\n      <td>...</td>\n      <td>...</td>\n      <td>...</td>\n      <td>...</td>\n      <td>...</td>\n      <td>...</td>\n      <td>...</td>\n      <td>...</td>\n      <td>...</td>\n      <td>...</td>\n      <td>...</td>\n      <td>...</td>\n      <td>...</td>\n      <td>...</td>\n      <td>...</td>\n      <td>...</td>\n      <td>...</td>\n      <td>...</td>\n      <td>...</td>\n    </tr>\n    <tr>\n      <th>481894</th>\n      <td>1,90E+11</td>\n      <td>3509502</td>\n      <td>Campinas</td>\n      <td>34</td>\n      <td>M</td>\n      <td>1</td>\n      <td>Parda</td>\n      <td>1</td>\n      <td>1</td>\n      <td>Não respondeu</td>\n      <td>...</td>\n      <td>932.1</td>\n      <td>Inglês</td>\n      <td>1.0</td>\n      <td>140.0</td>\n      <td>120.0</td>\n      <td>160.0</td>\n      <td>160.0</td>\n      <td>160.0</td>\n      <td>740.0</td>\n      <td>Sim</td>\n    </tr>\n    <tr>\n      <th>485805</th>\n      <td>1,90E+11</td>\n      <td>3509502</td>\n      <td>Campinas</td>\n      <td>16</td>\n      <td>F</td>\n      <td>1</td>\n      <td>Branca</td>\n      <td>1</td>\n      <td>2</td>\n      <td>Pública</td>\n      <td>...</td>\n      <td>441.6</td>\n      <td>Inglês</td>\n      <td>1.0</td>\n      <td>120.0</td>\n      <td>120.0</td>\n      <td>100.0</td>\n      <td>120.0</td>\n      <td>0.0</td>\n      <td>460.0</td>\n      <td>Sim</td>\n    </tr>\n    <tr>\n      <th>488958</th>\n      <td>1,90E+11</td>\n      <td>3509502</td>\n      <td>Campinas</td>\n      <td>19</td>\n      <td>F</td>\n      <td>1</td>\n      <td>Branca</td>\n      <td>1</td>\n      <td>1</td>\n      <td>Não respondeu</td>\n      <td>...</td>\n      <td>492.9</td>\n      <td>Inglês</td>\n      <td>1.0</td>\n      <td>160.0</td>\n      <td>120.0</td>\n      <td>140.0</td>\n      <td>120.0</td>\n      <td>140.0</td>\n      <td>680.0</td>\n      <td>Sim</td>\n    </tr>\n    <tr>\n      <th>492626</th>\n      <td>1,90E+11</td>\n      <td>3509502</td>\n      <td>Campinas</td>\n      <td>21</td>\n      <td>M</td>\n      <td>1</td>\n      <td>Branca</td>\n      <td>1</td>\n      <td>1</td>\n      <td>Não respondeu</td>\n      <td>...</td>\n      <td>51.1</td>\n      <td>Inglês</td>\n      <td>1.0</td>\n      <td>120.0</td>\n      <td>120.0</td>\n      <td>120.0</td>\n      <td>100.0</td>\n      <td>0.0</td>\n      <td>460.0</td>\n      <td>Sim</td>\n    </tr>\n    <tr>\n      <th>496410</th>\n      <td>1,90E+11</td>\n      <td>3509502</td>\n      <td>Campinas</td>\n      <td>19</td>\n      <td>M</td>\n      <td>1</td>\n      <td>Preta</td>\n      <td>1</td>\n      <td>1</td>\n      <td>Não respondeu</td>\n      <td>...</td>\n      <td>404.4</td>\n      <td>Inglês</td>\n      <td>1.0</td>\n      <td>100.0</td>\n      <td>80.0</td>\n      <td>80.0</td>\n      <td>80.0</td>\n      <td>40.0</td>\n      <td>380.0</td>\n      <td>Sim</td>\n    </tr>\n  </tbody>\n</table>\n<p>132 rows × 30 columns</p>\n</div>"
     },
     "execution_count": 17,
     "metadata": {},
     "output_type": "execute_result"
    }
   ],
   "source": [
    "#Criando a amostra sistemática\n",
    "amos_sistem = enem_campinas.iloc[amostra2,:] #\"iloc\" localiza pelo índice\n",
    "amos_sistem"
   ],
   "metadata": {
    "collapsed": false,
    "ExecuteTime": {
     "end_time": "2025-02-11T11:19:31.362631900Z",
     "start_time": "2025-02-11T11:19:31.033897500Z"
    }
   },
   "id": "50add28975885bd3",
   "execution_count": 17
  },
  {
   "cell_type": "code",
   "outputs": [
    {
     "data": {
      "text/plain": "(151, 30)"
     },
     "execution_count": 19,
     "metadata": {},
     "output_type": "execute_result"
    }
   ],
   "source": [
    "#Amostragem Estratificada (Seleciona uma amostra aleatória a partir de um grupo)\n",
    "#Considera 10% da Raça Preta como amostragem\n",
    "preta = enem_campinas.loc[enem_campinas.TP_COR_RACA == 'Preta'].sample(frac=0.10)\n",
    "preta.shape"
   ],
   "metadata": {
    "collapsed": false,
    "ExecuteTime": {
     "end_time": "2025-02-11T11:20:01.559977400Z",
     "start_time": "2025-02-11T11:20:01.536695100Z"
    }
   },
   "id": "b3ae6f7bf80874c6",
   "execution_count": 19
  },
  {
   "cell_type": "code",
   "outputs": [
    {
     "data": {
      "text/plain": "(365, 30)"
     },
     "execution_count": 22,
     "metadata": {},
     "output_type": "execute_result"
    }
   ],
   "source": [
    "#Considera 10% da Raça Parda como amostragem\n",
    "parda = enem_campinas.loc[enem_campinas.TP_COR_RACA == 'Parda'].sample(frac=0.10)\n",
    "parda.shape"
   ],
   "metadata": {
    "collapsed": false,
    "ExecuteTime": {
     "end_time": "2025-02-11T11:22:05.004523800Z",
     "start_time": "2025-02-11T11:22:04.976556900Z"
    }
   },
   "id": "fed07955b7c7cd1b",
   "execution_count": 22
  },
  {
   "cell_type": "code",
   "outputs": [
    {
     "data": {
      "text/plain": "       INSCRICAO  CO_MUNICIPIO_RESIDENCIA NO_MUNICIPIO_RESIDENCIA  NU_IDADE  \\\n8900    1,90E+11                  3509502                Campinas        17   \n105211  1,90E+11                  3509502                Campinas        26   \n465834  1,90E+11                  3509502                Campinas        32   \n72361   1,90E+11                  3509502                Campinas        19   \n463853  1,90E+11                  3509502                Campinas        18   \n...          ...                      ...                     ...       ...   \n368305  1,90E+11                  3509502                Campinas        21   \n49690   1,90E+11                  3509502                Campinas        28   \n355549  1,90E+11                  3509502                Campinas        18   \n226104  1,90E+11                  3509502                Campinas        33   \n133269  1,90E+11                  3509502                Campinas        17   \n\n       TP_SEXO  TP_ESTADO_CIVIL TP_COR_RACA  TP_NACIONALIDADE  \\\n8900         F                1       Parda                 1   \n105211       M                2       Parda                 1   \n465834       M                2       Parda                 1   \n72361        F                1       Parda                 1   \n463853       F                2       Parda                 1   \n...        ...              ...         ...               ...   \n368305       F                1       Parda                 1   \n49690        F                1       Parda                 1   \n355549       F                1       Parda                 1   \n226104       F                2       Parda                 1   \n133269       F                1       Parda                 1   \n\n        TP_ST_CONCLUSAO      TP_ESCOLA  ...  NU_NOTA_MT TP_LINGUA  \\\n8900                  2        Pública  ...       456.9    Inglês   \n105211                1  Não respondeu  ...       700.3    Inglês   \n465834                1  Não respondeu  ...       808.4    Inglês   \n72361                 1  Não respondeu  ...       467.1    Inglês   \n463853                1  Não respondeu  ...       396.5  Espanhol   \n...                 ...            ...  ...         ...       ...   \n368305                1  Não respondeu  ...       576.9    Inglês   \n49690                 1  Não respondeu  ...       443.4  Espanhol   \n355549                1  Não respondeu  ...       487.9  Espanhol   \n226104                1  Não respondeu  ...       378.4    Inglês   \n133269                2        Pública  ...       491.1  Espanhol   \n\n        TP_STATUS_REDACAO  NU_NOTA_COMP1  NU_NOTA_COMP2  NU_NOTA_COMP3  \\\n8900                  1.0          120.0          120.0          100.0   \n105211                1.0          160.0          120.0          140.0   \n465834                1.0          160.0          140.0          120.0   \n72361                 1.0          140.0          180.0          160.0   \n463853                1.0          100.0          120.0           80.0   \n...                   ...            ...            ...            ...   \n368305                1.0          120.0           60.0           60.0   \n49690                 6.0            0.0            0.0            0.0   \n355549                1.0          160.0          180.0          140.0   \n226104                4.0            0.0            0.0            0.0   \n133269                1.0          120.0          120.0          100.0   \n\n        NU_NOTA_COMP4  NU_NOTA_COMP5  NU_NOTA_REDACAO  INTERNET  \n8900            100.0           80.0            520.0       Sim  \n105211          120.0          160.0            700.0       Sim  \n465834          140.0           80.0            640.0       Sim  \n72361           160.0          140.0            780.0       Sim  \n463853          100.0          140.0            540.0       Sim  \n...               ...            ...              ...       ...  \n368305           80.0            0.0            320.0       Sim  \n49690             0.0            0.0              0.0       Sim  \n355549          120.0          180.0            780.0       Sim  \n226104            0.0            0.0              0.0       Sim  \n133269          120.0          100.0            560.0       Sim  \n\n[730 rows x 30 columns]",
      "text/html": "<div>\n<style scoped>\n    .dataframe tbody tr th:only-of-type {\n        vertical-align: middle;\n    }\n\n    .dataframe tbody tr th {\n        vertical-align: top;\n    }\n\n    .dataframe thead th {\n        text-align: right;\n    }\n</style>\n<table border=\"1\" class=\"dataframe\">\n  <thead>\n    <tr style=\"text-align: right;\">\n      <th></th>\n      <th>INSCRICAO</th>\n      <th>CO_MUNICIPIO_RESIDENCIA</th>\n      <th>NO_MUNICIPIO_RESIDENCIA</th>\n      <th>NU_IDADE</th>\n      <th>TP_SEXO</th>\n      <th>TP_ESTADO_CIVIL</th>\n      <th>TP_COR_RACA</th>\n      <th>TP_NACIONALIDADE</th>\n      <th>TP_ST_CONCLUSAO</th>\n      <th>TP_ESCOLA</th>\n      <th>...</th>\n      <th>NU_NOTA_MT</th>\n      <th>TP_LINGUA</th>\n      <th>TP_STATUS_REDACAO</th>\n      <th>NU_NOTA_COMP1</th>\n      <th>NU_NOTA_COMP2</th>\n      <th>NU_NOTA_COMP3</th>\n      <th>NU_NOTA_COMP4</th>\n      <th>NU_NOTA_COMP5</th>\n      <th>NU_NOTA_REDACAO</th>\n      <th>INTERNET</th>\n    </tr>\n  </thead>\n  <tbody>\n    <tr>\n      <th>8900</th>\n      <td>1,90E+11</td>\n      <td>3509502</td>\n      <td>Campinas</td>\n      <td>17</td>\n      <td>F</td>\n      <td>1</td>\n      <td>Parda</td>\n      <td>1</td>\n      <td>2</td>\n      <td>Pública</td>\n      <td>...</td>\n      <td>456.9</td>\n      <td>Inglês</td>\n      <td>1.0</td>\n      <td>120.0</td>\n      <td>120.0</td>\n      <td>100.0</td>\n      <td>100.0</td>\n      <td>80.0</td>\n      <td>520.0</td>\n      <td>Sim</td>\n    </tr>\n    <tr>\n      <th>105211</th>\n      <td>1,90E+11</td>\n      <td>3509502</td>\n      <td>Campinas</td>\n      <td>26</td>\n      <td>M</td>\n      <td>2</td>\n      <td>Parda</td>\n      <td>1</td>\n      <td>1</td>\n      <td>Não respondeu</td>\n      <td>...</td>\n      <td>700.3</td>\n      <td>Inglês</td>\n      <td>1.0</td>\n      <td>160.0</td>\n      <td>120.0</td>\n      <td>140.0</td>\n      <td>120.0</td>\n      <td>160.0</td>\n      <td>700.0</td>\n      <td>Sim</td>\n    </tr>\n    <tr>\n      <th>465834</th>\n      <td>1,90E+11</td>\n      <td>3509502</td>\n      <td>Campinas</td>\n      <td>32</td>\n      <td>M</td>\n      <td>2</td>\n      <td>Parda</td>\n      <td>1</td>\n      <td>1</td>\n      <td>Não respondeu</td>\n      <td>...</td>\n      <td>808.4</td>\n      <td>Inglês</td>\n      <td>1.0</td>\n      <td>160.0</td>\n      <td>140.0</td>\n      <td>120.0</td>\n      <td>140.0</td>\n      <td>80.0</td>\n      <td>640.0</td>\n      <td>Sim</td>\n    </tr>\n    <tr>\n      <th>72361</th>\n      <td>1,90E+11</td>\n      <td>3509502</td>\n      <td>Campinas</td>\n      <td>19</td>\n      <td>F</td>\n      <td>1</td>\n      <td>Parda</td>\n      <td>1</td>\n      <td>1</td>\n      <td>Não respondeu</td>\n      <td>...</td>\n      <td>467.1</td>\n      <td>Inglês</td>\n      <td>1.0</td>\n      <td>140.0</td>\n      <td>180.0</td>\n      <td>160.0</td>\n      <td>160.0</td>\n      <td>140.0</td>\n      <td>780.0</td>\n      <td>Sim</td>\n    </tr>\n    <tr>\n      <th>463853</th>\n      <td>1,90E+11</td>\n      <td>3509502</td>\n      <td>Campinas</td>\n      <td>18</td>\n      <td>F</td>\n      <td>2</td>\n      <td>Parda</td>\n      <td>1</td>\n      <td>1</td>\n      <td>Não respondeu</td>\n      <td>...</td>\n      <td>396.5</td>\n      <td>Espanhol</td>\n      <td>1.0</td>\n      <td>100.0</td>\n      <td>120.0</td>\n      <td>80.0</td>\n      <td>100.0</td>\n      <td>140.0</td>\n      <td>540.0</td>\n      <td>Sim</td>\n    </tr>\n    <tr>\n      <th>...</th>\n      <td>...</td>\n      <td>...</td>\n      <td>...</td>\n      <td>...</td>\n      <td>...</td>\n      <td>...</td>\n      <td>...</td>\n      <td>...</td>\n      <td>...</td>\n      <td>...</td>\n      <td>...</td>\n      <td>...</td>\n      <td>...</td>\n      <td>...</td>\n      <td>...</td>\n      <td>...</td>\n      <td>...</td>\n      <td>...</td>\n      <td>...</td>\n      <td>...</td>\n      <td>...</td>\n    </tr>\n    <tr>\n      <th>368305</th>\n      <td>1,90E+11</td>\n      <td>3509502</td>\n      <td>Campinas</td>\n      <td>21</td>\n      <td>F</td>\n      <td>1</td>\n      <td>Parda</td>\n      <td>1</td>\n      <td>1</td>\n      <td>Não respondeu</td>\n      <td>...</td>\n      <td>576.9</td>\n      <td>Inglês</td>\n      <td>1.0</td>\n      <td>120.0</td>\n      <td>60.0</td>\n      <td>60.0</td>\n      <td>80.0</td>\n      <td>0.0</td>\n      <td>320.0</td>\n      <td>Sim</td>\n    </tr>\n    <tr>\n      <th>49690</th>\n      <td>1,90E+11</td>\n      <td>3509502</td>\n      <td>Campinas</td>\n      <td>28</td>\n      <td>F</td>\n      <td>1</td>\n      <td>Parda</td>\n      <td>1</td>\n      <td>1</td>\n      <td>Não respondeu</td>\n      <td>...</td>\n      <td>443.4</td>\n      <td>Espanhol</td>\n      <td>6.0</td>\n      <td>0.0</td>\n      <td>0.0</td>\n      <td>0.0</td>\n      <td>0.0</td>\n      <td>0.0</td>\n      <td>0.0</td>\n      <td>Sim</td>\n    </tr>\n    <tr>\n      <th>355549</th>\n      <td>1,90E+11</td>\n      <td>3509502</td>\n      <td>Campinas</td>\n      <td>18</td>\n      <td>F</td>\n      <td>1</td>\n      <td>Parda</td>\n      <td>1</td>\n      <td>1</td>\n      <td>Não respondeu</td>\n      <td>...</td>\n      <td>487.9</td>\n      <td>Espanhol</td>\n      <td>1.0</td>\n      <td>160.0</td>\n      <td>180.0</td>\n      <td>140.0</td>\n      <td>120.0</td>\n      <td>180.0</td>\n      <td>780.0</td>\n      <td>Sim</td>\n    </tr>\n    <tr>\n      <th>226104</th>\n      <td>1,90E+11</td>\n      <td>3509502</td>\n      <td>Campinas</td>\n      <td>33</td>\n      <td>F</td>\n      <td>2</td>\n      <td>Parda</td>\n      <td>1</td>\n      <td>1</td>\n      <td>Não respondeu</td>\n      <td>...</td>\n      <td>378.4</td>\n      <td>Inglês</td>\n      <td>4.0</td>\n      <td>0.0</td>\n      <td>0.0</td>\n      <td>0.0</td>\n      <td>0.0</td>\n      <td>0.0</td>\n      <td>0.0</td>\n      <td>Sim</td>\n    </tr>\n    <tr>\n      <th>133269</th>\n      <td>1,90E+11</td>\n      <td>3509502</td>\n      <td>Campinas</td>\n      <td>17</td>\n      <td>F</td>\n      <td>1</td>\n      <td>Parda</td>\n      <td>1</td>\n      <td>2</td>\n      <td>Pública</td>\n      <td>...</td>\n      <td>491.1</td>\n      <td>Espanhol</td>\n      <td>1.0</td>\n      <td>120.0</td>\n      <td>120.0</td>\n      <td>100.0</td>\n      <td>120.0</td>\n      <td>100.0</td>\n      <td>560.0</td>\n      <td>Sim</td>\n    </tr>\n  </tbody>\n</table>\n<p>730 rows × 30 columns</p>\n</div>"
     },
     "execution_count": 25,
     "metadata": {},
     "output_type": "execute_result"
    }
   ],
   "source": [
    "#Concatenar amostras\n",
    "amos_estra = pd.concat([preta,parda])\n",
    "amos_estra"
   ],
   "metadata": {
    "collapsed": false,
    "ExecuteTime": {
     "end_time": "2025-02-11T11:26:27.639952300Z",
     "start_time": "2025-02-11T11:26:27.595472600Z"
    }
   },
   "id": "c91dc2c7655ee37a",
   "execution_count": 25
  },
  {
   "cell_type": "code",
   "outputs": [],
   "source": [
    "#Amostra Estratificada para grandes grupos\n",
    "\n",
    "#Importar lib de machine learning\n",
    "from sklearn.model_selection import train_test_split"
   ],
   "metadata": {
    "collapsed": false,
    "ExecuteTime": {
     "end_time": "2025-02-11T11:28:45.625542900Z",
     "start_time": "2025-02-11T11:28:24.235056500Z"
    }
   },
   "id": "388dd6db923369c",
   "execution_count": 26
  },
  {
   "cell_type": "code",
   "outputs": [
    {
     "data": {
      "text/plain": "Index([ 49550, 297258, 368594, 304474, 162024, 229703, 230227, 145965,  31267,\n       299044,\n       ...\n       297390,  29503, 376091, 344034, 410170, 428390, 341546, 130234, 480816,\n       186481],\n      dtype='int64', length=2640)"
     },
     "execution_count": 32,
     "metadata": {},
     "output_type": "execute_result"
    }
   ],
   "source": [
    "#Criando uma amostra única a partir de uma coluna\n",
    "x_treino, x_teste, y_treino, amos_estra = train_test_split(enem_campinas.drop('TP_COR_RACA',axis=1),enem_campinas['TP_COR_RACA'],stratify=enem_campinas['TP_COR_RACA'],test_size=0.20)\n",
    "amos_estra = amos_estra.index\n",
    "amos_estra"
   ],
   "metadata": {
    "collapsed": false,
    "ExecuteTime": {
     "end_time": "2025-02-11T11:38:06.216970800Z",
     "start_time": "2025-02-11T11:38:06.182895800Z"
    }
   },
   "id": "efbe9faa64a54a9a",
   "execution_count": 32
  },
  {
   "cell_type": "code",
   "outputs": [
    {
     "data": {
      "text/plain": "       INSCRICAO  CO_MUNICIPIO_RESIDENCIA NO_MUNICIPIO_RESIDENCIA  NU_IDADE  \\\n49550   1,90E+11                  3509502                Campinas        17   \n297258  1,90E+11                  3509502                Campinas        20   \n368594  1,90E+11                  3509502                Campinas        17   \n304474  1,90E+11                  3509502                Campinas        55   \n162024  1,90E+11                  3509502                Campinas        25   \n...          ...                      ...                     ...       ...   \n428390  1,90E+11                  3509502                Campinas        27   \n341546  1,90E+11                  3509502                Campinas        17   \n130234  1,90E+11                  3509502                Campinas        18   \n480816  1,90E+11                  3509502                Campinas        19   \n186481  1,90E+11                  3509502                Campinas        18   \n\n       TP_SEXO  TP_ESTADO_CIVIL TP_COR_RACA  TP_NACIONALIDADE  \\\n49550        F                1       Parda                 1   \n297258       F                1       Parda                 1   \n368594       F                1     Amarela                 1   \n304474       M                1       Parda                 1   \n162024       F                1       Parda                 1   \n...        ...              ...         ...               ...   \n428390       M                1       Preta                 1   \n341546       F                1      Branca                 1   \n130234       F                1      Branca                 1   \n480816       F                1      Branca                 1   \n186481       F                1       Preta                 1   \n\n        TP_ST_CONCLUSAO      TP_ESCOLA  ...  NU_NOTA_MT TP_LINGUA  \\\n49550                 2        Pública  ...        41.9  Espanhol   \n297258                1  Não respondeu  ...       702.4    Inglês   \n368594                2        Privada  ...        73.9    Inglês   \n304474                1  Não respondeu  ...       446.1  Espanhol   \n162024                1  Não respondeu  ...        43.7    Inglês   \n...                 ...            ...  ...         ...       ...   \n428390                1  Não respondeu  ...       405.7    Inglês   \n341546                2        Pública  ...       417.3    Inglês   \n130234                2        Pública  ...       576.2    Inglês   \n480816                1  Não respondeu  ...       753.3  Espanhol   \n186481                2        Pública  ...       570.3    Inglês   \n\n        TP_STATUS_REDACAO  NU_NOTA_COMP1  NU_NOTA_COMP2  NU_NOTA_COMP3  \\\n49550                 1.0          140.0          120.0          140.0   \n297258                1.0          180.0          200.0          200.0   \n368594                1.0          160.0          120.0          160.0   \n304474                6.0            0.0            0.0            0.0   \n162024                6.0            0.0            0.0            0.0   \n...                   ...            ...            ...            ...   \n428390                1.0          120.0          120.0          120.0   \n341546                1.0          140.0          120.0          140.0   \n130234                1.0          160.0          120.0          140.0   \n480816                1.0          140.0          160.0          160.0   \n186481                1.0          120.0          120.0          120.0   \n\n        NU_NOTA_COMP4  NU_NOTA_COMP5  NU_NOTA_REDACAO  INTERNET  \n49550           120.0           80.0            600.0       Sim  \n297258          200.0          140.0            920.0       Sim  \n368594          180.0          200.0            820.0       Sim  \n304474            0.0            0.0              0.0       Sim  \n162024            0.0            0.0              0.0       Não  \n...               ...            ...              ...       ...  \n428390          100.0           80.0            540.0       Sim  \n341546          120.0          120.0            640.0       Sim  \n130234          160.0          100.0            680.0       Sim  \n480816          180.0          160.0            800.0       Sim  \n186481          120.0          120.0            600.0       Sim  \n\n[2640 rows x 30 columns]",
      "text/html": "<div>\n<style scoped>\n    .dataframe tbody tr th:only-of-type {\n        vertical-align: middle;\n    }\n\n    .dataframe tbody tr th {\n        vertical-align: top;\n    }\n\n    .dataframe thead th {\n        text-align: right;\n    }\n</style>\n<table border=\"1\" class=\"dataframe\">\n  <thead>\n    <tr style=\"text-align: right;\">\n      <th></th>\n      <th>INSCRICAO</th>\n      <th>CO_MUNICIPIO_RESIDENCIA</th>\n      <th>NO_MUNICIPIO_RESIDENCIA</th>\n      <th>NU_IDADE</th>\n      <th>TP_SEXO</th>\n      <th>TP_ESTADO_CIVIL</th>\n      <th>TP_COR_RACA</th>\n      <th>TP_NACIONALIDADE</th>\n      <th>TP_ST_CONCLUSAO</th>\n      <th>TP_ESCOLA</th>\n      <th>...</th>\n      <th>NU_NOTA_MT</th>\n      <th>TP_LINGUA</th>\n      <th>TP_STATUS_REDACAO</th>\n      <th>NU_NOTA_COMP1</th>\n      <th>NU_NOTA_COMP2</th>\n      <th>NU_NOTA_COMP3</th>\n      <th>NU_NOTA_COMP4</th>\n      <th>NU_NOTA_COMP5</th>\n      <th>NU_NOTA_REDACAO</th>\n      <th>INTERNET</th>\n    </tr>\n  </thead>\n  <tbody>\n    <tr>\n      <th>49550</th>\n      <td>1,90E+11</td>\n      <td>3509502</td>\n      <td>Campinas</td>\n      <td>17</td>\n      <td>F</td>\n      <td>1</td>\n      <td>Parda</td>\n      <td>1</td>\n      <td>2</td>\n      <td>Pública</td>\n      <td>...</td>\n      <td>41.9</td>\n      <td>Espanhol</td>\n      <td>1.0</td>\n      <td>140.0</td>\n      <td>120.0</td>\n      <td>140.0</td>\n      <td>120.0</td>\n      <td>80.0</td>\n      <td>600.0</td>\n      <td>Sim</td>\n    </tr>\n    <tr>\n      <th>297258</th>\n      <td>1,90E+11</td>\n      <td>3509502</td>\n      <td>Campinas</td>\n      <td>20</td>\n      <td>F</td>\n      <td>1</td>\n      <td>Parda</td>\n      <td>1</td>\n      <td>1</td>\n      <td>Não respondeu</td>\n      <td>...</td>\n      <td>702.4</td>\n      <td>Inglês</td>\n      <td>1.0</td>\n      <td>180.0</td>\n      <td>200.0</td>\n      <td>200.0</td>\n      <td>200.0</td>\n      <td>140.0</td>\n      <td>920.0</td>\n      <td>Sim</td>\n    </tr>\n    <tr>\n      <th>368594</th>\n      <td>1,90E+11</td>\n      <td>3509502</td>\n      <td>Campinas</td>\n      <td>17</td>\n      <td>F</td>\n      <td>1</td>\n      <td>Amarela</td>\n      <td>1</td>\n      <td>2</td>\n      <td>Privada</td>\n      <td>...</td>\n      <td>73.9</td>\n      <td>Inglês</td>\n      <td>1.0</td>\n      <td>160.0</td>\n      <td>120.0</td>\n      <td>160.0</td>\n      <td>180.0</td>\n      <td>200.0</td>\n      <td>820.0</td>\n      <td>Sim</td>\n    </tr>\n    <tr>\n      <th>304474</th>\n      <td>1,90E+11</td>\n      <td>3509502</td>\n      <td>Campinas</td>\n      <td>55</td>\n      <td>M</td>\n      <td>1</td>\n      <td>Parda</td>\n      <td>1</td>\n      <td>1</td>\n      <td>Não respondeu</td>\n      <td>...</td>\n      <td>446.1</td>\n      <td>Espanhol</td>\n      <td>6.0</td>\n      <td>0.0</td>\n      <td>0.0</td>\n      <td>0.0</td>\n      <td>0.0</td>\n      <td>0.0</td>\n      <td>0.0</td>\n      <td>Sim</td>\n    </tr>\n    <tr>\n      <th>162024</th>\n      <td>1,90E+11</td>\n      <td>3509502</td>\n      <td>Campinas</td>\n      <td>25</td>\n      <td>F</td>\n      <td>1</td>\n      <td>Parda</td>\n      <td>1</td>\n      <td>1</td>\n      <td>Não respondeu</td>\n      <td>...</td>\n      <td>43.7</td>\n      <td>Inglês</td>\n      <td>6.0</td>\n      <td>0.0</td>\n      <td>0.0</td>\n      <td>0.0</td>\n      <td>0.0</td>\n      <td>0.0</td>\n      <td>0.0</td>\n      <td>Não</td>\n    </tr>\n    <tr>\n      <th>...</th>\n      <td>...</td>\n      <td>...</td>\n      <td>...</td>\n      <td>...</td>\n      <td>...</td>\n      <td>...</td>\n      <td>...</td>\n      <td>...</td>\n      <td>...</td>\n      <td>...</td>\n      <td>...</td>\n      <td>...</td>\n      <td>...</td>\n      <td>...</td>\n      <td>...</td>\n      <td>...</td>\n      <td>...</td>\n      <td>...</td>\n      <td>...</td>\n      <td>...</td>\n      <td>...</td>\n    </tr>\n    <tr>\n      <th>428390</th>\n      <td>1,90E+11</td>\n      <td>3509502</td>\n      <td>Campinas</td>\n      <td>27</td>\n      <td>M</td>\n      <td>1</td>\n      <td>Preta</td>\n      <td>1</td>\n      <td>1</td>\n      <td>Não respondeu</td>\n      <td>...</td>\n      <td>405.7</td>\n      <td>Inglês</td>\n      <td>1.0</td>\n      <td>120.0</td>\n      <td>120.0</td>\n      <td>120.0</td>\n      <td>100.0</td>\n      <td>80.0</td>\n      <td>540.0</td>\n      <td>Sim</td>\n    </tr>\n    <tr>\n      <th>341546</th>\n      <td>1,90E+11</td>\n      <td>3509502</td>\n      <td>Campinas</td>\n      <td>17</td>\n      <td>F</td>\n      <td>1</td>\n      <td>Branca</td>\n      <td>1</td>\n      <td>2</td>\n      <td>Pública</td>\n      <td>...</td>\n      <td>417.3</td>\n      <td>Inglês</td>\n      <td>1.0</td>\n      <td>140.0</td>\n      <td>120.0</td>\n      <td>140.0</td>\n      <td>120.0</td>\n      <td>120.0</td>\n      <td>640.0</td>\n      <td>Sim</td>\n    </tr>\n    <tr>\n      <th>130234</th>\n      <td>1,90E+11</td>\n      <td>3509502</td>\n      <td>Campinas</td>\n      <td>18</td>\n      <td>F</td>\n      <td>1</td>\n      <td>Branca</td>\n      <td>1</td>\n      <td>2</td>\n      <td>Pública</td>\n      <td>...</td>\n      <td>576.2</td>\n      <td>Inglês</td>\n      <td>1.0</td>\n      <td>160.0</td>\n      <td>120.0</td>\n      <td>140.0</td>\n      <td>160.0</td>\n      <td>100.0</td>\n      <td>680.0</td>\n      <td>Sim</td>\n    </tr>\n    <tr>\n      <th>480816</th>\n      <td>1,90E+11</td>\n      <td>3509502</td>\n      <td>Campinas</td>\n      <td>19</td>\n      <td>F</td>\n      <td>1</td>\n      <td>Branca</td>\n      <td>1</td>\n      <td>1</td>\n      <td>Não respondeu</td>\n      <td>...</td>\n      <td>753.3</td>\n      <td>Espanhol</td>\n      <td>1.0</td>\n      <td>140.0</td>\n      <td>160.0</td>\n      <td>160.0</td>\n      <td>180.0</td>\n      <td>160.0</td>\n      <td>800.0</td>\n      <td>Sim</td>\n    </tr>\n    <tr>\n      <th>186481</th>\n      <td>1,90E+11</td>\n      <td>3509502</td>\n      <td>Campinas</td>\n      <td>18</td>\n      <td>F</td>\n      <td>1</td>\n      <td>Preta</td>\n      <td>1</td>\n      <td>2</td>\n      <td>Pública</td>\n      <td>...</td>\n      <td>570.3</td>\n      <td>Inglês</td>\n      <td>1.0</td>\n      <td>120.0</td>\n      <td>120.0</td>\n      <td>120.0</td>\n      <td>120.0</td>\n      <td>120.0</td>\n      <td>600.0</td>\n      <td>Sim</td>\n    </tr>\n  </tbody>\n</table>\n<p>2640 rows × 30 columns</p>\n</div>"
     },
     "execution_count": 34,
     "metadata": {},
     "output_type": "execute_result"
    }
   ],
   "source": [
    "#Fazendo a junção de todos os índices\n",
    "amos_estra_camp = enem_campinas.loc[amos_estra,:] #O \":\" considera todas as colunas\n",
    "amos_estra_camp"
   ],
   "metadata": {
    "collapsed": false,
    "ExecuteTime": {
     "end_time": "2025-02-11T11:38:30.017660300Z",
     "start_time": "2025-02-11T11:38:29.987311500Z"
    }
   },
   "id": "33fe08ec0041c092",
   "execution_count": 34
  },
  {
   "cell_type": "code",
   "outputs": [],
   "source": [],
   "metadata": {
    "collapsed": false
   },
   "id": "d8df33803bb9babc"
  }
 ],
 "metadata": {
  "kernelspec": {
   "display_name": "Python 3",
   "language": "python",
   "name": "python3"
  },
  "language_info": {
   "codemirror_mode": {
    "name": "ipython",
    "version": 2
   },
   "file_extension": ".py",
   "mimetype": "text/x-python",
   "name": "python",
   "nbconvert_exporter": "python",
   "pygments_lexer": "ipython2",
   "version": "2.7.6"
  }
 },
 "nbformat": 4,
 "nbformat_minor": 5
}
